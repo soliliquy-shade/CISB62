{
 "cells": [
  {
   "cell_type": "markdown",
   "id": "ed79d925",
   "metadata": {},
   "source": [
    "<h1><strong>Convolutional Neural Network with the cifar10 Dataset</strong></h1>\n",
    "<p>Samantha Fields-Samotowka</p>\n",
    "<p>CISB-62</p>\n",
    "<p>CRN 21058</p>\n",
    "<p>October 22, 2023</p>\n",
    "\n",
    "<h2>Explanation of Project</h2>\n",
    "<p>I will be creating a basic convolutional neural network (CNN) using the cifar10 dataset. Then I will use Keras Tuner to tune it to hopefully achieve better results.</p>\n",
    "\n",
    "<h2>Techniques Employed</h2>\n",
    "<ul>\n",
    "    <li>CNN</li>\n",
    "    <li>Hyperparameter Tuning</li>\n",
    "</ul>"
   ]
  },
  {
   "cell_type": "markdown",
   "id": "0b091283",
   "metadata": {},
   "source": [
    "<h3>Import Statements</h3>"
   ]
  },
  {
   "cell_type": "code",
   "execution_count": 1,
   "id": "d913784b",
   "metadata": {},
   "outputs": [
    {
     "name": "stdout",
     "output_type": "stream",
     "text": [
      "Using TensorFlow backend\n"
     ]
    }
   ],
   "source": [
    "#General libraries\n",
    "import numpy as np\n",
    "import pandas as pd\n",
    "import matplotlib.pyplot as plt\n",
    "import warnings\n",
    "warnings.filterwarnings(\"ignore\")\n",
    "\n",
    "#Keras and TensorFlow\n",
    "import keras\n",
    "import tensorflow as tf\n",
    "from keras.utils import to_categorical\n",
    "\n",
    "#cifar10 dataset\n",
    "from keras.datasets import cifar10\n",
    "\n",
    "#Model building libraries\n",
    "from keras.models import Sequential\n",
    "from keras.layers import Dense, Dropout, Flatten\n",
    "from keras.layers import Conv2D, MaxPooling2D\n",
    "from keras.optimizers import SGD\n",
    "\n",
    "#Hyperparameter tuning\n",
    "import os\n",
    "import shutil\n",
    "import keras_tuner as kt\n",
    "from sklearn.metrics import mean_absolute_error\n",
    "\n",
    "#Output visualisation and analysis\n",
    "from collections import Counter\n",
    "from sklearn.metrics import confusion_matrix\n",
    "import itertools"
   ]
  },
  {
   "cell_type": "markdown",
   "id": "64525f6c",
   "metadata": {},
   "source": [
    "<h1>Exploratory Data Analysis</h1>"
   ]
  },
  {
   "cell_type": "markdown",
   "id": "df036a56",
   "metadata": {},
   "source": [
    "<h3>Load data and examine</h3>"
   ]
  },
  {
   "cell_type": "code",
   "execution_count": 2,
   "id": "3eaad4c1",
   "metadata": {},
   "outputs": [],
   "source": [
    "(X_train, y_train), (X_valid, y_valid) = cifar10.load_data()"
   ]
  },
  {
   "cell_type": "code",
   "execution_count": 3,
   "id": "42344abf",
   "metadata": {},
   "outputs": [],
   "source": [
    "#Reformatting for examination\n",
    "X_train_df = pd.DataFrame(X_train.reshape(X_train.shape[0], -1))\n",
    "y_train_df = pd.DataFrame(y_train, columns=[\"Label\"])\n",
    "\n",
    "X_valid_df = pd.DataFrame(X_valid.reshape(X_valid.shape[0], -1))\n",
    "y_valid_df = pd.DataFrame(y_valid, columns=[\"Label\"])"
   ]
  },
  {
   "cell_type": "code",
   "execution_count": 4,
   "id": "0ef9de7b",
   "metadata": {},
   "outputs": [
    {
     "name": "stdout",
     "output_type": "stream",
     "text": [
      "The shape of X_train is:  (50000, 32, 32, 3)\n",
      "The shape of y_train is:  (50000, 1)\n",
      "The shape of X_valid is:  (10000, 32, 32, 3)\n",
      "The shape of y_valid is:  (10000, 1)\n"
     ]
    }
   ],
   "source": [
    "print(\"The shape of X_train is: \", X_train.shape)\n",
    "print(\"The shape of y_train is: \", y_train.shape)\n",
    "print(\"The shape of X_valid is: \", X_valid.shape)\n",
    "print(\"The shape of y_valid is: \", y_valid.shape)"
   ]
  },
  {
   "cell_type": "code",
   "execution_count": 5,
   "id": "7364bf29",
   "metadata": {},
   "outputs": [
    {
     "data": {
      "text/html": [
       "<div>\n",
       "<style scoped>\n",
       "    .dataframe tbody tr th:only-of-type {\n",
       "        vertical-align: middle;\n",
       "    }\n",
       "\n",
       "    .dataframe tbody tr th {\n",
       "        vertical-align: top;\n",
       "    }\n",
       "\n",
       "    .dataframe thead th {\n",
       "        text-align: right;\n",
       "    }\n",
       "</style>\n",
       "<table border=\"1\" class=\"dataframe\">\n",
       "  <thead>\n",
       "    <tr style=\"text-align: right;\">\n",
       "      <th></th>\n",
       "      <th>0</th>\n",
       "      <th>1</th>\n",
       "      <th>2</th>\n",
       "      <th>3</th>\n",
       "      <th>4</th>\n",
       "      <th>5</th>\n",
       "      <th>6</th>\n",
       "      <th>7</th>\n",
       "      <th>8</th>\n",
       "      <th>9</th>\n",
       "      <th>...</th>\n",
       "      <th>3062</th>\n",
       "      <th>3063</th>\n",
       "      <th>3064</th>\n",
       "      <th>3065</th>\n",
       "      <th>3066</th>\n",
       "      <th>3067</th>\n",
       "      <th>3068</th>\n",
       "      <th>3069</th>\n",
       "      <th>3070</th>\n",
       "      <th>3071</th>\n",
       "    </tr>\n",
       "  </thead>\n",
       "  <tbody>\n",
       "    <tr>\n",
       "      <th>count</th>\n",
       "      <td>50000.000000</td>\n",
       "      <td>50000.00000</td>\n",
       "      <td>50000.000000</td>\n",
       "      <td>50000.00000</td>\n",
       "      <td>50000.000000</td>\n",
       "      <td>50000.000000</td>\n",
       "      <td>50000.000000</td>\n",
       "      <td>50000.00000</td>\n",
       "      <td>50000.000000</td>\n",
       "      <td>50000.000000</td>\n",
       "      <td>...</td>\n",
       "      <td>50000.000000</td>\n",
       "      <td>50000.000000</td>\n",
       "      <td>50000.000000</td>\n",
       "      <td>50000.000000</td>\n",
       "      <td>50000.000000</td>\n",
       "      <td>50000.000000</td>\n",
       "      <td>50000.000000</td>\n",
       "      <td>50000.000000</td>\n",
       "      <td>50000.000000</td>\n",
       "      <td>50000.000000</td>\n",
       "    </tr>\n",
       "    <tr>\n",
       "      <th>mean</th>\n",
       "      <td>130.710740</td>\n",
       "      <td>136.05614</td>\n",
       "      <td>132.553800</td>\n",
       "      <td>130.14036</td>\n",
       "      <td>135.442380</td>\n",
       "      <td>131.853580</td>\n",
       "      <td>131.050440</td>\n",
       "      <td>136.24616</td>\n",
       "      <td>132.581440</td>\n",
       "      <td>131.568860</td>\n",
       "      <td>...</td>\n",
       "      <td>113.877800</td>\n",
       "      <td>126.778360</td>\n",
       "      <td>125.697080</td>\n",
       "      <td>113.830580</td>\n",
       "      <td>126.564960</td>\n",
       "      <td>125.617420</td>\n",
       "      <td>113.906240</td>\n",
       "      <td>126.639080</td>\n",
       "      <td>125.850300</td>\n",
       "      <td>114.381860</td>\n",
       "    </tr>\n",
       "    <tr>\n",
       "      <th>std</th>\n",
       "      <td>73.412873</td>\n",
       "      <td>72.90798</td>\n",
       "      <td>80.449751</td>\n",
       "      <td>72.44259</td>\n",
       "      <td>71.901316</td>\n",
       "      <td>79.598048</td>\n",
       "      <td>72.240546</td>\n",
       "      <td>71.67471</td>\n",
       "      <td>79.434675</td>\n",
       "      <td>72.016555</td>\n",
       "      <td>...</td>\n",
       "      <td>64.738943</td>\n",
       "      <td>63.954763</td>\n",
       "      <td>61.591233</td>\n",
       "      <td>64.894603</td>\n",
       "      <td>64.178427</td>\n",
       "      <td>61.831646</td>\n",
       "      <td>65.212671</td>\n",
       "      <td>64.926283</td>\n",
       "      <td>62.649286</td>\n",
       "      <td>66.077526</td>\n",
       "    </tr>\n",
       "    <tr>\n",
       "      <th>min</th>\n",
       "      <td>0.000000</td>\n",
       "      <td>0.00000</td>\n",
       "      <td>0.000000</td>\n",
       "      <td>0.00000</td>\n",
       "      <td>0.000000</td>\n",
       "      <td>0.000000</td>\n",
       "      <td>0.000000</td>\n",
       "      <td>0.00000</td>\n",
       "      <td>0.000000</td>\n",
       "      <td>0.000000</td>\n",
       "      <td>...</td>\n",
       "      <td>0.000000</td>\n",
       "      <td>0.000000</td>\n",
       "      <td>0.000000</td>\n",
       "      <td>0.000000</td>\n",
       "      <td>0.000000</td>\n",
       "      <td>0.000000</td>\n",
       "      <td>0.000000</td>\n",
       "      <td>0.000000</td>\n",
       "      <td>0.000000</td>\n",
       "      <td>0.000000</td>\n",
       "    </tr>\n",
       "    <tr>\n",
       "      <th>25%</th>\n",
       "      <td>71.000000</td>\n",
       "      <td>77.00000</td>\n",
       "      <td>61.000000</td>\n",
       "      <td>71.00000</td>\n",
       "      <td>78.000000</td>\n",
       "      <td>61.000000</td>\n",
       "      <td>73.000000</td>\n",
       "      <td>79.00000</td>\n",
       "      <td>62.000000</td>\n",
       "      <td>73.000000</td>\n",
       "      <td>...</td>\n",
       "      <td>64.000000</td>\n",
       "      <td>79.000000</td>\n",
       "      <td>81.000000</td>\n",
       "      <td>64.000000</td>\n",
       "      <td>79.000000</td>\n",
       "      <td>81.000000</td>\n",
       "      <td>64.000000</td>\n",
       "      <td>78.000000</td>\n",
       "      <td>80.000000</td>\n",
       "      <td>63.000000</td>\n",
       "    </tr>\n",
       "    <tr>\n",
       "      <th>50%</th>\n",
       "      <td>128.000000</td>\n",
       "      <td>135.00000</td>\n",
       "      <td>127.000000</td>\n",
       "      <td>127.00000</td>\n",
       "      <td>135.000000</td>\n",
       "      <td>127.000000</td>\n",
       "      <td>129.000000</td>\n",
       "      <td>136.00000</td>\n",
       "      <td>128.000000</td>\n",
       "      <td>130.000000</td>\n",
       "      <td>...</td>\n",
       "      <td>106.000000</td>\n",
       "      <td>124.000000</td>\n",
       "      <td>123.000000</td>\n",
       "      <td>106.000000</td>\n",
       "      <td>124.000000</td>\n",
       "      <td>123.000000</td>\n",
       "      <td>106.000000</td>\n",
       "      <td>124.000000</td>\n",
       "      <td>123.000000</td>\n",
       "      <td>106.000000</td>\n",
       "    </tr>\n",
       "    <tr>\n",
       "      <th>75%</th>\n",
       "      <td>189.000000</td>\n",
       "      <td>195.00000</td>\n",
       "      <td>207.000000</td>\n",
       "      <td>188.00000</td>\n",
       "      <td>193.000000</td>\n",
       "      <td>206.000000</td>\n",
       "      <td>188.000000</td>\n",
       "      <td>194.00000</td>\n",
       "      <td>206.000000</td>\n",
       "      <td>188.000000</td>\n",
       "      <td>...</td>\n",
       "      <td>157.000000</td>\n",
       "      <td>172.000000</td>\n",
       "      <td>167.000000</td>\n",
       "      <td>157.000000</td>\n",
       "      <td>172.000000</td>\n",
       "      <td>167.000000</td>\n",
       "      <td>157.000000</td>\n",
       "      <td>172.000000</td>\n",
       "      <td>168.000000</td>\n",
       "      <td>158.000000</td>\n",
       "    </tr>\n",
       "    <tr>\n",
       "      <th>max</th>\n",
       "      <td>255.000000</td>\n",
       "      <td>255.00000</td>\n",
       "      <td>255.000000</td>\n",
       "      <td>255.00000</td>\n",
       "      <td>255.000000</td>\n",
       "      <td>255.000000</td>\n",
       "      <td>255.000000</td>\n",
       "      <td>255.00000</td>\n",
       "      <td>255.000000</td>\n",
       "      <td>255.000000</td>\n",
       "      <td>...</td>\n",
       "      <td>255.000000</td>\n",
       "      <td>255.000000</td>\n",
       "      <td>255.000000</td>\n",
       "      <td>255.000000</td>\n",
       "      <td>255.000000</td>\n",
       "      <td>255.000000</td>\n",
       "      <td>255.000000</td>\n",
       "      <td>255.000000</td>\n",
       "      <td>255.000000</td>\n",
       "      <td>255.000000</td>\n",
       "    </tr>\n",
       "  </tbody>\n",
       "</table>\n",
       "<p>8 rows × 3072 columns</p>\n",
       "</div>"
      ],
      "text/plain": [
       "               0            1             2            3             4     \\\n",
       "count  50000.000000  50000.00000  50000.000000  50000.00000  50000.000000   \n",
       "mean     130.710740    136.05614    132.553800    130.14036    135.442380   \n",
       "std       73.412873     72.90798     80.449751     72.44259     71.901316   \n",
       "min        0.000000      0.00000      0.000000      0.00000      0.000000   \n",
       "25%       71.000000     77.00000     61.000000     71.00000     78.000000   \n",
       "50%      128.000000    135.00000    127.000000    127.00000    135.000000   \n",
       "75%      189.000000    195.00000    207.000000    188.00000    193.000000   \n",
       "max      255.000000    255.00000    255.000000    255.00000    255.000000   \n",
       "\n",
       "               5             6            7             8             9     \\\n",
       "count  50000.000000  50000.000000  50000.00000  50000.000000  50000.000000   \n",
       "mean     131.853580    131.050440    136.24616    132.581440    131.568860   \n",
       "std       79.598048     72.240546     71.67471     79.434675     72.016555   \n",
       "min        0.000000      0.000000      0.00000      0.000000      0.000000   \n",
       "25%       61.000000     73.000000     79.00000     62.000000     73.000000   \n",
       "50%      127.000000    129.000000    136.00000    128.000000    130.000000   \n",
       "75%      206.000000    188.000000    194.00000    206.000000    188.000000   \n",
       "max      255.000000    255.000000    255.00000    255.000000    255.000000   \n",
       "\n",
       "       ...          3062          3063          3064          3065  \\\n",
       "count  ...  50000.000000  50000.000000  50000.000000  50000.000000   \n",
       "mean   ...    113.877800    126.778360    125.697080    113.830580   \n",
       "std    ...     64.738943     63.954763     61.591233     64.894603   \n",
       "min    ...      0.000000      0.000000      0.000000      0.000000   \n",
       "25%    ...     64.000000     79.000000     81.000000     64.000000   \n",
       "50%    ...    106.000000    124.000000    123.000000    106.000000   \n",
       "75%    ...    157.000000    172.000000    167.000000    157.000000   \n",
       "max    ...    255.000000    255.000000    255.000000    255.000000   \n",
       "\n",
       "               3066          3067          3068          3069          3070  \\\n",
       "count  50000.000000  50000.000000  50000.000000  50000.000000  50000.000000   \n",
       "mean     126.564960    125.617420    113.906240    126.639080    125.850300   \n",
       "std       64.178427     61.831646     65.212671     64.926283     62.649286   \n",
       "min        0.000000      0.000000      0.000000      0.000000      0.000000   \n",
       "25%       79.000000     81.000000     64.000000     78.000000     80.000000   \n",
       "50%      124.000000    123.000000    106.000000    124.000000    123.000000   \n",
       "75%      172.000000    167.000000    157.000000    172.000000    168.000000   \n",
       "max      255.000000    255.000000    255.000000    255.000000    255.000000   \n",
       "\n",
       "               3071  \n",
       "count  50000.000000  \n",
       "mean     114.381860  \n",
       "std       66.077526  \n",
       "min        0.000000  \n",
       "25%       63.000000  \n",
       "50%      106.000000  \n",
       "75%      158.000000  \n",
       "max      255.000000  \n",
       "\n",
       "[8 rows x 3072 columns]"
      ]
     },
     "execution_count": 5,
     "metadata": {},
     "output_type": "execute_result"
    }
   ],
   "source": [
    "X_train_df.describe()"
   ]
  },
  {
   "cell_type": "code",
   "execution_count": 6,
   "id": "7fc3d8ba",
   "metadata": {},
   "outputs": [
    {
     "data": {
      "text/html": [
       "<div>\n",
       "<style scoped>\n",
       "    .dataframe tbody tr th:only-of-type {\n",
       "        vertical-align: middle;\n",
       "    }\n",
       "\n",
       "    .dataframe tbody tr th {\n",
       "        vertical-align: top;\n",
       "    }\n",
       "\n",
       "    .dataframe thead th {\n",
       "        text-align: right;\n",
       "    }\n",
       "</style>\n",
       "<table border=\"1\" class=\"dataframe\">\n",
       "  <thead>\n",
       "    <tr style=\"text-align: right;\">\n",
       "      <th></th>\n",
       "      <th>0</th>\n",
       "      <th>1</th>\n",
       "      <th>2</th>\n",
       "      <th>3</th>\n",
       "      <th>4</th>\n",
       "      <th>5</th>\n",
       "      <th>6</th>\n",
       "      <th>7</th>\n",
       "      <th>8</th>\n",
       "      <th>9</th>\n",
       "      <th>...</th>\n",
       "      <th>3062</th>\n",
       "      <th>3063</th>\n",
       "      <th>3064</th>\n",
       "      <th>3065</th>\n",
       "      <th>3066</th>\n",
       "      <th>3067</th>\n",
       "      <th>3068</th>\n",
       "      <th>3069</th>\n",
       "      <th>3070</th>\n",
       "      <th>3071</th>\n",
       "    </tr>\n",
       "  </thead>\n",
       "  <tbody>\n",
       "    <tr>\n",
       "      <th>0</th>\n",
       "      <td>59</td>\n",
       "      <td>62</td>\n",
       "      <td>63</td>\n",
       "      <td>43</td>\n",
       "      <td>46</td>\n",
       "      <td>45</td>\n",
       "      <td>50</td>\n",
       "      <td>48</td>\n",
       "      <td>43</td>\n",
       "      <td>68</td>\n",
       "      <td>...</td>\n",
       "      <td>104</td>\n",
       "      <td>216</td>\n",
       "      <td>184</td>\n",
       "      <td>140</td>\n",
       "      <td>151</td>\n",
       "      <td>118</td>\n",
       "      <td>84</td>\n",
       "      <td>123</td>\n",
       "      <td>92</td>\n",
       "      <td>72</td>\n",
       "    </tr>\n",
       "    <tr>\n",
       "      <th>1</th>\n",
       "      <td>154</td>\n",
       "      <td>177</td>\n",
       "      <td>187</td>\n",
       "      <td>126</td>\n",
       "      <td>137</td>\n",
       "      <td>136</td>\n",
       "      <td>105</td>\n",
       "      <td>104</td>\n",
       "      <td>95</td>\n",
       "      <td>102</td>\n",
       "      <td>...</td>\n",
       "      <td>136</td>\n",
       "      <td>143</td>\n",
       "      <td>133</td>\n",
       "      <td>139</td>\n",
       "      <td>143</td>\n",
       "      <td>134</td>\n",
       "      <td>142</td>\n",
       "      <td>143</td>\n",
       "      <td>133</td>\n",
       "      <td>144</td>\n",
       "    </tr>\n",
       "    <tr>\n",
       "      <th>2</th>\n",
       "      <td>255</td>\n",
       "      <td>255</td>\n",
       "      <td>255</td>\n",
       "      <td>253</td>\n",
       "      <td>253</td>\n",
       "      <td>253</td>\n",
       "      <td>253</td>\n",
       "      <td>253</td>\n",
       "      <td>253</td>\n",
       "      <td>253</td>\n",
       "      <td>...</td>\n",
       "      <td>79</td>\n",
       "      <td>78</td>\n",
       "      <td>85</td>\n",
       "      <td>83</td>\n",
       "      <td>79</td>\n",
       "      <td>85</td>\n",
       "      <td>83</td>\n",
       "      <td>80</td>\n",
       "      <td>86</td>\n",
       "      <td>84</td>\n",
       "    </tr>\n",
       "    <tr>\n",
       "      <th>3</th>\n",
       "      <td>28</td>\n",
       "      <td>25</td>\n",
       "      <td>10</td>\n",
       "      <td>37</td>\n",
       "      <td>34</td>\n",
       "      <td>19</td>\n",
       "      <td>38</td>\n",
       "      <td>35</td>\n",
       "      <td>20</td>\n",
       "      <td>42</td>\n",
       "      <td>...</td>\n",
       "      <td>38</td>\n",
       "      <td>54</td>\n",
       "      <td>47</td>\n",
       "      <td>28</td>\n",
       "      <td>63</td>\n",
       "      <td>56</td>\n",
       "      <td>37</td>\n",
       "      <td>72</td>\n",
       "      <td>65</td>\n",
       "      <td>46</td>\n",
       "    </tr>\n",
       "    <tr>\n",
       "      <th>4</th>\n",
       "      <td>170</td>\n",
       "      <td>180</td>\n",
       "      <td>198</td>\n",
       "      <td>168</td>\n",
       "      <td>178</td>\n",
       "      <td>196</td>\n",
       "      <td>177</td>\n",
       "      <td>185</td>\n",
       "      <td>203</td>\n",
       "      <td>183</td>\n",
       "      <td>...</td>\n",
       "      <td>78</td>\n",
       "      <td>75</td>\n",
       "      <td>79</td>\n",
       "      <td>82</td>\n",
       "      <td>71</td>\n",
       "      <td>75</td>\n",
       "      <td>78</td>\n",
       "      <td>73</td>\n",
       "      <td>77</td>\n",
       "      <td>80</td>\n",
       "    </tr>\n",
       "  </tbody>\n",
       "</table>\n",
       "<p>5 rows × 3072 columns</p>\n",
       "</div>"
      ],
      "text/plain": [
       "   0     1     2     3     4     5     6     7     8     9     ...  3062  \\\n",
       "0    59    62    63    43    46    45    50    48    43    68  ...   104   \n",
       "1   154   177   187   126   137   136   105   104    95   102  ...   136   \n",
       "2   255   255   255   253   253   253   253   253   253   253  ...    79   \n",
       "3    28    25    10    37    34    19    38    35    20    42  ...    38   \n",
       "4   170   180   198   168   178   196   177   185   203   183  ...    78   \n",
       "\n",
       "   3063  3064  3065  3066  3067  3068  3069  3070  3071  \n",
       "0   216   184   140   151   118    84   123    92    72  \n",
       "1   143   133   139   143   134   142   143   133   144  \n",
       "2    78    85    83    79    85    83    80    86    84  \n",
       "3    54    47    28    63    56    37    72    65    46  \n",
       "4    75    79    82    71    75    78    73    77    80  \n",
       "\n",
       "[5 rows x 3072 columns]"
      ]
     },
     "execution_count": 6,
     "metadata": {},
     "output_type": "execute_result"
    }
   ],
   "source": [
    "X_train_df.head()"
   ]
  },
  {
   "cell_type": "code",
   "execution_count": 7,
   "id": "dd67036c",
   "metadata": {},
   "outputs": [
    {
     "name": "stdout",
     "output_type": "stream",
     "text": [
      "<class 'pandas.core.frame.DataFrame'>\n",
      "RangeIndex: 50000 entries, 0 to 49999\n",
      "Columns: 3072 entries, 0 to 3071\n",
      "dtypes: uint8(3072)\n",
      "memory usage: 146.5 MB\n"
     ]
    }
   ],
   "source": [
    "X_train_df.info()"
   ]
  },
  {
   "cell_type": "code",
   "execution_count": 8,
   "id": "489328d5",
   "metadata": {},
   "outputs": [
    {
     "data": {
      "text/html": [
       "<div>\n",
       "<style scoped>\n",
       "    .dataframe tbody tr th:only-of-type {\n",
       "        vertical-align: middle;\n",
       "    }\n",
       "\n",
       "    .dataframe tbody tr th {\n",
       "        vertical-align: top;\n",
       "    }\n",
       "\n",
       "    .dataframe thead th {\n",
       "        text-align: right;\n",
       "    }\n",
       "</style>\n",
       "<table border=\"1\" class=\"dataframe\">\n",
       "  <thead>\n",
       "    <tr style=\"text-align: right;\">\n",
       "      <th></th>\n",
       "      <th>Label</th>\n",
       "    </tr>\n",
       "  </thead>\n",
       "  <tbody>\n",
       "    <tr>\n",
       "      <th>count</th>\n",
       "      <td>50000.00000</td>\n",
       "    </tr>\n",
       "    <tr>\n",
       "      <th>mean</th>\n",
       "      <td>4.50000</td>\n",
       "    </tr>\n",
       "    <tr>\n",
       "      <th>std</th>\n",
       "      <td>2.87231</td>\n",
       "    </tr>\n",
       "    <tr>\n",
       "      <th>min</th>\n",
       "      <td>0.00000</td>\n",
       "    </tr>\n",
       "    <tr>\n",
       "      <th>25%</th>\n",
       "      <td>2.00000</td>\n",
       "    </tr>\n",
       "    <tr>\n",
       "      <th>50%</th>\n",
       "      <td>4.50000</td>\n",
       "    </tr>\n",
       "    <tr>\n",
       "      <th>75%</th>\n",
       "      <td>7.00000</td>\n",
       "    </tr>\n",
       "    <tr>\n",
       "      <th>max</th>\n",
       "      <td>9.00000</td>\n",
       "    </tr>\n",
       "  </tbody>\n",
       "</table>\n",
       "</div>"
      ],
      "text/plain": [
       "             Label\n",
       "count  50000.00000\n",
       "mean       4.50000\n",
       "std        2.87231\n",
       "min        0.00000\n",
       "25%        2.00000\n",
       "50%        4.50000\n",
       "75%        7.00000\n",
       "max        9.00000"
      ]
     },
     "execution_count": 8,
     "metadata": {},
     "output_type": "execute_result"
    }
   ],
   "source": [
    "y_train_df.describe()"
   ]
  },
  {
   "cell_type": "code",
   "execution_count": 9,
   "id": "7f56dee0",
   "metadata": {},
   "outputs": [
    {
     "data": {
      "text/html": [
       "<div>\n",
       "<style scoped>\n",
       "    .dataframe tbody tr th:only-of-type {\n",
       "        vertical-align: middle;\n",
       "    }\n",
       "\n",
       "    .dataframe tbody tr th {\n",
       "        vertical-align: top;\n",
       "    }\n",
       "\n",
       "    .dataframe thead th {\n",
       "        text-align: right;\n",
       "    }\n",
       "</style>\n",
       "<table border=\"1\" class=\"dataframe\">\n",
       "  <thead>\n",
       "    <tr style=\"text-align: right;\">\n",
       "      <th></th>\n",
       "      <th>Label</th>\n",
       "    </tr>\n",
       "  </thead>\n",
       "  <tbody>\n",
       "    <tr>\n",
       "      <th>0</th>\n",
       "      <td>6</td>\n",
       "    </tr>\n",
       "    <tr>\n",
       "      <th>1</th>\n",
       "      <td>9</td>\n",
       "    </tr>\n",
       "    <tr>\n",
       "      <th>2</th>\n",
       "      <td>9</td>\n",
       "    </tr>\n",
       "    <tr>\n",
       "      <th>3</th>\n",
       "      <td>4</td>\n",
       "    </tr>\n",
       "    <tr>\n",
       "      <th>4</th>\n",
       "      <td>1</td>\n",
       "    </tr>\n",
       "  </tbody>\n",
       "</table>\n",
       "</div>"
      ],
      "text/plain": [
       "   Label\n",
       "0      6\n",
       "1      9\n",
       "2      9\n",
       "3      4\n",
       "4      1"
      ]
     },
     "execution_count": 9,
     "metadata": {},
     "output_type": "execute_result"
    }
   ],
   "source": [
    "y_train_df.head()"
   ]
  },
  {
   "cell_type": "code",
   "execution_count": 10,
   "id": "c46e0045",
   "metadata": {},
   "outputs": [
    {
     "name": "stdout",
     "output_type": "stream",
     "text": [
      "<class 'pandas.core.frame.DataFrame'>\n",
      "RangeIndex: 50000 entries, 0 to 49999\n",
      "Data columns (total 1 columns):\n",
      " #   Column  Non-Null Count  Dtype\n",
      "---  ------  --------------  -----\n",
      " 0   Label   50000 non-null  uint8\n",
      "dtypes: uint8(1)\n",
      "memory usage: 49.0 KB\n"
     ]
    }
   ],
   "source": [
    "y_train_df.info()"
   ]
  },
  {
   "cell_type": "code",
   "execution_count": 11,
   "id": "4e873d03",
   "metadata": {},
   "outputs": [
    {
     "data": {
      "text/html": [
       "<div>\n",
       "<style scoped>\n",
       "    .dataframe tbody tr th:only-of-type {\n",
       "        vertical-align: middle;\n",
       "    }\n",
       "\n",
       "    .dataframe tbody tr th {\n",
       "        vertical-align: top;\n",
       "    }\n",
       "\n",
       "    .dataframe thead th {\n",
       "        text-align: right;\n",
       "    }\n",
       "</style>\n",
       "<table border=\"1\" class=\"dataframe\">\n",
       "  <thead>\n",
       "    <tr style=\"text-align: right;\">\n",
       "      <th></th>\n",
       "      <th>0</th>\n",
       "      <th>1</th>\n",
       "      <th>2</th>\n",
       "      <th>3</th>\n",
       "      <th>4</th>\n",
       "      <th>5</th>\n",
       "      <th>6</th>\n",
       "      <th>7</th>\n",
       "      <th>8</th>\n",
       "      <th>9</th>\n",
       "      <th>...</th>\n",
       "      <th>3062</th>\n",
       "      <th>3063</th>\n",
       "      <th>3064</th>\n",
       "      <th>3065</th>\n",
       "      <th>3066</th>\n",
       "      <th>3067</th>\n",
       "      <th>3068</th>\n",
       "      <th>3069</th>\n",
       "      <th>3070</th>\n",
       "      <th>3071</th>\n",
       "    </tr>\n",
       "  </thead>\n",
       "  <tbody>\n",
       "    <tr>\n",
       "      <th>count</th>\n",
       "      <td>10000.000000</td>\n",
       "      <td>10000.000000</td>\n",
       "      <td>10000.000000</td>\n",
       "      <td>10000.000000</td>\n",
       "      <td>10000.000000</td>\n",
       "      <td>10000.00000</td>\n",
       "      <td>10000.000000</td>\n",
       "      <td>10000.00000</td>\n",
       "      <td>10000.000000</td>\n",
       "      <td>10000.000000</td>\n",
       "      <td>...</td>\n",
       "      <td>10000.000000</td>\n",
       "      <td>10000.000000</td>\n",
       "      <td>10000.000000</td>\n",
       "      <td>10000.000000</td>\n",
       "      <td>10000.000000</td>\n",
       "      <td>10000.000000</td>\n",
       "      <td>10000.000000</td>\n",
       "      <td>10000.000000</td>\n",
       "      <td>10000.000000</td>\n",
       "      <td>10000.000000</td>\n",
       "    </tr>\n",
       "    <tr>\n",
       "      <th>mean</th>\n",
       "      <td>130.535400</td>\n",
       "      <td>136.046200</td>\n",
       "      <td>132.830000</td>\n",
       "      <td>129.993900</td>\n",
       "      <td>135.511300</td>\n",
       "      <td>132.23110</td>\n",
       "      <td>131.145000</td>\n",
       "      <td>136.65770</td>\n",
       "      <td>133.233700</td>\n",
       "      <td>132.146800</td>\n",
       "      <td>...</td>\n",
       "      <td>114.760400</td>\n",
       "      <td>127.121400</td>\n",
       "      <td>126.143700</td>\n",
       "      <td>114.844100</td>\n",
       "      <td>126.517300</td>\n",
       "      <td>125.758800</td>\n",
       "      <td>114.776000</td>\n",
       "      <td>126.548300</td>\n",
       "      <td>126.002600</td>\n",
       "      <td>115.327100</td>\n",
       "    </tr>\n",
       "    <tr>\n",
       "      <th>std</th>\n",
       "      <td>73.333214</td>\n",
       "      <td>72.690423</td>\n",
       "      <td>80.134163</td>\n",
       "      <td>72.397388</td>\n",
       "      <td>71.740927</td>\n",
       "      <td>79.18629</td>\n",
       "      <td>72.288499</td>\n",
       "      <td>71.63948</td>\n",
       "      <td>79.172435</td>\n",
       "      <td>71.739001</td>\n",
       "      <td>...</td>\n",
       "      <td>64.333828</td>\n",
       "      <td>63.462211</td>\n",
       "      <td>60.866895</td>\n",
       "      <td>64.443142</td>\n",
       "      <td>63.784916</td>\n",
       "      <td>61.196315</td>\n",
       "      <td>64.911164</td>\n",
       "      <td>64.601056</td>\n",
       "      <td>62.021345</td>\n",
       "      <td>65.662591</td>\n",
       "    </tr>\n",
       "    <tr>\n",
       "      <th>min</th>\n",
       "      <td>0.000000</td>\n",
       "      <td>0.000000</td>\n",
       "      <td>0.000000</td>\n",
       "      <td>0.000000</td>\n",
       "      <td>0.000000</td>\n",
       "      <td>0.00000</td>\n",
       "      <td>0.000000</td>\n",
       "      <td>0.00000</td>\n",
       "      <td>0.000000</td>\n",
       "      <td>0.000000</td>\n",
       "      <td>...</td>\n",
       "      <td>0.000000</td>\n",
       "      <td>0.000000</td>\n",
       "      <td>0.000000</td>\n",
       "      <td>0.000000</td>\n",
       "      <td>0.000000</td>\n",
       "      <td>0.000000</td>\n",
       "      <td>0.000000</td>\n",
       "      <td>0.000000</td>\n",
       "      <td>0.000000</td>\n",
       "      <td>0.000000</td>\n",
       "    </tr>\n",
       "    <tr>\n",
       "      <th>25%</th>\n",
       "      <td>70.000000</td>\n",
       "      <td>78.000000</td>\n",
       "      <td>62.000000</td>\n",
       "      <td>71.000000</td>\n",
       "      <td>79.000000</td>\n",
       "      <td>62.00000</td>\n",
       "      <td>73.000000</td>\n",
       "      <td>80.00000</td>\n",
       "      <td>63.000000</td>\n",
       "      <td>75.000000</td>\n",
       "      <td>...</td>\n",
       "      <td>65.000000</td>\n",
       "      <td>79.000000</td>\n",
       "      <td>82.000000</td>\n",
       "      <td>65.000000</td>\n",
       "      <td>79.000000</td>\n",
       "      <td>81.000000</td>\n",
       "      <td>65.000000</td>\n",
       "      <td>78.000000</td>\n",
       "      <td>81.000000</td>\n",
       "      <td>65.000000</td>\n",
       "    </tr>\n",
       "    <tr>\n",
       "      <th>50%</th>\n",
       "      <td>127.000000</td>\n",
       "      <td>135.000000</td>\n",
       "      <td>128.000000</td>\n",
       "      <td>127.000000</td>\n",
       "      <td>135.000000</td>\n",
       "      <td>128.00000</td>\n",
       "      <td>128.000000</td>\n",
       "      <td>136.00000</td>\n",
       "      <td>129.000000</td>\n",
       "      <td>129.000000</td>\n",
       "      <td>...</td>\n",
       "      <td>107.000000</td>\n",
       "      <td>124.000000</td>\n",
       "      <td>123.000000</td>\n",
       "      <td>106.000000</td>\n",
       "      <td>123.000000</td>\n",
       "      <td>122.000000</td>\n",
       "      <td>106.000000</td>\n",
       "      <td>123.000000</td>\n",
       "      <td>123.000000</td>\n",
       "      <td>106.000000</td>\n",
       "    </tr>\n",
       "    <tr>\n",
       "      <th>75%</th>\n",
       "      <td>188.000000</td>\n",
       "      <td>195.000000</td>\n",
       "      <td>207.000000</td>\n",
       "      <td>187.000000</td>\n",
       "      <td>193.000000</td>\n",
       "      <td>205.00000</td>\n",
       "      <td>189.000000</td>\n",
       "      <td>195.00000</td>\n",
       "      <td>206.250000</td>\n",
       "      <td>190.000000</td>\n",
       "      <td>...</td>\n",
       "      <td>158.000000</td>\n",
       "      <td>172.000000</td>\n",
       "      <td>167.000000</td>\n",
       "      <td>158.000000</td>\n",
       "      <td>172.000000</td>\n",
       "      <td>167.000000</td>\n",
       "      <td>158.000000</td>\n",
       "      <td>171.000000</td>\n",
       "      <td>168.000000</td>\n",
       "      <td>160.000000</td>\n",
       "    </tr>\n",
       "    <tr>\n",
       "      <th>max</th>\n",
       "      <td>255.000000</td>\n",
       "      <td>255.000000</td>\n",
       "      <td>255.000000</td>\n",
       "      <td>255.000000</td>\n",
       "      <td>255.000000</td>\n",
       "      <td>255.00000</td>\n",
       "      <td>255.000000</td>\n",
       "      <td>255.00000</td>\n",
       "      <td>255.000000</td>\n",
       "      <td>255.000000</td>\n",
       "      <td>...</td>\n",
       "      <td>255.000000</td>\n",
       "      <td>255.000000</td>\n",
       "      <td>255.000000</td>\n",
       "      <td>255.000000</td>\n",
       "      <td>255.000000</td>\n",
       "      <td>255.000000</td>\n",
       "      <td>255.000000</td>\n",
       "      <td>255.000000</td>\n",
       "      <td>255.000000</td>\n",
       "      <td>255.000000</td>\n",
       "    </tr>\n",
       "  </tbody>\n",
       "</table>\n",
       "<p>8 rows × 3072 columns</p>\n",
       "</div>"
      ],
      "text/plain": [
       "               0             1             2             3             4     \\\n",
       "count  10000.000000  10000.000000  10000.000000  10000.000000  10000.000000   \n",
       "mean     130.535400    136.046200    132.830000    129.993900    135.511300   \n",
       "std       73.333214     72.690423     80.134163     72.397388     71.740927   \n",
       "min        0.000000      0.000000      0.000000      0.000000      0.000000   \n",
       "25%       70.000000     78.000000     62.000000     71.000000     79.000000   \n",
       "50%      127.000000    135.000000    128.000000    127.000000    135.000000   \n",
       "75%      188.000000    195.000000    207.000000    187.000000    193.000000   \n",
       "max      255.000000    255.000000    255.000000    255.000000    255.000000   \n",
       "\n",
       "              5             6            7             8             9     \\\n",
       "count  10000.00000  10000.000000  10000.00000  10000.000000  10000.000000   \n",
       "mean     132.23110    131.145000    136.65770    133.233700    132.146800   \n",
       "std       79.18629     72.288499     71.63948     79.172435     71.739001   \n",
       "min        0.00000      0.000000      0.00000      0.000000      0.000000   \n",
       "25%       62.00000     73.000000     80.00000     63.000000     75.000000   \n",
       "50%      128.00000    128.000000    136.00000    129.000000    129.000000   \n",
       "75%      205.00000    189.000000    195.00000    206.250000    190.000000   \n",
       "max      255.00000    255.000000    255.00000    255.000000    255.000000   \n",
       "\n",
       "       ...          3062          3063          3064          3065  \\\n",
       "count  ...  10000.000000  10000.000000  10000.000000  10000.000000   \n",
       "mean   ...    114.760400    127.121400    126.143700    114.844100   \n",
       "std    ...     64.333828     63.462211     60.866895     64.443142   \n",
       "min    ...      0.000000      0.000000      0.000000      0.000000   \n",
       "25%    ...     65.000000     79.000000     82.000000     65.000000   \n",
       "50%    ...    107.000000    124.000000    123.000000    106.000000   \n",
       "75%    ...    158.000000    172.000000    167.000000    158.000000   \n",
       "max    ...    255.000000    255.000000    255.000000    255.000000   \n",
       "\n",
       "               3066          3067          3068          3069          3070  \\\n",
       "count  10000.000000  10000.000000  10000.000000  10000.000000  10000.000000   \n",
       "mean     126.517300    125.758800    114.776000    126.548300    126.002600   \n",
       "std       63.784916     61.196315     64.911164     64.601056     62.021345   \n",
       "min        0.000000      0.000000      0.000000      0.000000      0.000000   \n",
       "25%       79.000000     81.000000     65.000000     78.000000     81.000000   \n",
       "50%      123.000000    122.000000    106.000000    123.000000    123.000000   \n",
       "75%      172.000000    167.000000    158.000000    171.000000    168.000000   \n",
       "max      255.000000    255.000000    255.000000    255.000000    255.000000   \n",
       "\n",
       "               3071  \n",
       "count  10000.000000  \n",
       "mean     115.327100  \n",
       "std       65.662591  \n",
       "min        0.000000  \n",
       "25%       65.000000  \n",
       "50%      106.000000  \n",
       "75%      160.000000  \n",
       "max      255.000000  \n",
       "\n",
       "[8 rows x 3072 columns]"
      ]
     },
     "execution_count": 11,
     "metadata": {},
     "output_type": "execute_result"
    }
   ],
   "source": [
    "X_valid_df.describe()"
   ]
  },
  {
   "cell_type": "code",
   "execution_count": 12,
   "id": "80161c19",
   "metadata": {},
   "outputs": [
    {
     "data": {
      "text/html": [
       "<div>\n",
       "<style scoped>\n",
       "    .dataframe tbody tr th:only-of-type {\n",
       "        vertical-align: middle;\n",
       "    }\n",
       "\n",
       "    .dataframe tbody tr th {\n",
       "        vertical-align: top;\n",
       "    }\n",
       "\n",
       "    .dataframe thead th {\n",
       "        text-align: right;\n",
       "    }\n",
       "</style>\n",
       "<table border=\"1\" class=\"dataframe\">\n",
       "  <thead>\n",
       "    <tr style=\"text-align: right;\">\n",
       "      <th></th>\n",
       "      <th>0</th>\n",
       "      <th>1</th>\n",
       "      <th>2</th>\n",
       "      <th>3</th>\n",
       "      <th>4</th>\n",
       "      <th>5</th>\n",
       "      <th>6</th>\n",
       "      <th>7</th>\n",
       "      <th>8</th>\n",
       "      <th>9</th>\n",
       "      <th>...</th>\n",
       "      <th>3062</th>\n",
       "      <th>3063</th>\n",
       "      <th>3064</th>\n",
       "      <th>3065</th>\n",
       "      <th>3066</th>\n",
       "      <th>3067</th>\n",
       "      <th>3068</th>\n",
       "      <th>3069</th>\n",
       "      <th>3070</th>\n",
       "      <th>3071</th>\n",
       "    </tr>\n",
       "  </thead>\n",
       "  <tbody>\n",
       "    <tr>\n",
       "      <th>0</th>\n",
       "      <td>158</td>\n",
       "      <td>112</td>\n",
       "      <td>49</td>\n",
       "      <td>159</td>\n",
       "      <td>111</td>\n",
       "      <td>47</td>\n",
       "      <td>165</td>\n",
       "      <td>116</td>\n",
       "      <td>51</td>\n",
       "      <td>166</td>\n",
       "      <td>...</td>\n",
       "      <td>145</td>\n",
       "      <td>24</td>\n",
       "      <td>77</td>\n",
       "      <td>124</td>\n",
       "      <td>34</td>\n",
       "      <td>84</td>\n",
       "      <td>129</td>\n",
       "      <td>21</td>\n",
       "      <td>67</td>\n",
       "      <td>110</td>\n",
       "    </tr>\n",
       "    <tr>\n",
       "      <th>1</th>\n",
       "      <td>235</td>\n",
       "      <td>235</td>\n",
       "      <td>235</td>\n",
       "      <td>231</td>\n",
       "      <td>231</td>\n",
       "      <td>231</td>\n",
       "      <td>232</td>\n",
       "      <td>232</td>\n",
       "      <td>232</td>\n",
       "      <td>232</td>\n",
       "      <td>...</td>\n",
       "      <td>163</td>\n",
       "      <td>168</td>\n",
       "      <td>183</td>\n",
       "      <td>178</td>\n",
       "      <td>180</td>\n",
       "      <td>195</td>\n",
       "      <td>191</td>\n",
       "      <td>186</td>\n",
       "      <td>200</td>\n",
       "      <td>199</td>\n",
       "    </tr>\n",
       "    <tr>\n",
       "      <th>2</th>\n",
       "      <td>158</td>\n",
       "      <td>190</td>\n",
       "      <td>222</td>\n",
       "      <td>158</td>\n",
       "      <td>187</td>\n",
       "      <td>218</td>\n",
       "      <td>139</td>\n",
       "      <td>166</td>\n",
       "      <td>194</td>\n",
       "      <td>132</td>\n",
       "      <td>...</td>\n",
       "      <td>37</td>\n",
       "      <td>5</td>\n",
       "      <td>6</td>\n",
       "      <td>8</td>\n",
       "      <td>4</td>\n",
       "      <td>5</td>\n",
       "      <td>3</td>\n",
       "      <td>7</td>\n",
       "      <td>8</td>\n",
       "      <td>7</td>\n",
       "    </tr>\n",
       "    <tr>\n",
       "      <th>3</th>\n",
       "      <td>155</td>\n",
       "      <td>156</td>\n",
       "      <td>149</td>\n",
       "      <td>167</td>\n",
       "      <td>176</td>\n",
       "      <td>187</td>\n",
       "      <td>176</td>\n",
       "      <td>179</td>\n",
       "      <td>193</td>\n",
       "      <td>190</td>\n",
       "      <td>...</td>\n",
       "      <td>53</td>\n",
       "      <td>60</td>\n",
       "      <td>63</td>\n",
       "      <td>50</td>\n",
       "      <td>64</td>\n",
       "      <td>65</td>\n",
       "      <td>52</td>\n",
       "      <td>73</td>\n",
       "      <td>68</td>\n",
       "      <td>50</td>\n",
       "    </tr>\n",
       "    <tr>\n",
       "      <th>4</th>\n",
       "      <td>65</td>\n",
       "      <td>68</td>\n",
       "      <td>50</td>\n",
       "      <td>70</td>\n",
       "      <td>81</td>\n",
       "      <td>64</td>\n",
       "      <td>48</td>\n",
       "      <td>64</td>\n",
       "      <td>46</td>\n",
       "      <td>30</td>\n",
       "      <td>...</td>\n",
       "      <td>147</td>\n",
       "      <td>143</td>\n",
       "      <td>179</td>\n",
       "      <td>136</td>\n",
       "      <td>154</td>\n",
       "      <td>185</td>\n",
       "      <td>146</td>\n",
       "      <td>128</td>\n",
       "      <td>156</td>\n",
       "      <td>117</td>\n",
       "    </tr>\n",
       "  </tbody>\n",
       "</table>\n",
       "<p>5 rows × 3072 columns</p>\n",
       "</div>"
      ],
      "text/plain": [
       "   0     1     2     3     4     5     6     7     8     9     ...  3062  \\\n",
       "0   158   112    49   159   111    47   165   116    51   166  ...   145   \n",
       "1   235   235   235   231   231   231   232   232   232   232  ...   163   \n",
       "2   158   190   222   158   187   218   139   166   194   132  ...    37   \n",
       "3   155   156   149   167   176   187   176   179   193   190  ...    53   \n",
       "4    65    68    50    70    81    64    48    64    46    30  ...   147   \n",
       "\n",
       "   3063  3064  3065  3066  3067  3068  3069  3070  3071  \n",
       "0    24    77   124    34    84   129    21    67   110  \n",
       "1   168   183   178   180   195   191   186   200   199  \n",
       "2     5     6     8     4     5     3     7     8     7  \n",
       "3    60    63    50    64    65    52    73    68    50  \n",
       "4   143   179   136   154   185   146   128   156   117  \n",
       "\n",
       "[5 rows x 3072 columns]"
      ]
     },
     "execution_count": 12,
     "metadata": {},
     "output_type": "execute_result"
    }
   ],
   "source": [
    "X_valid_df.head()"
   ]
  },
  {
   "cell_type": "code",
   "execution_count": 13,
   "id": "f932bfe7",
   "metadata": {},
   "outputs": [
    {
     "name": "stdout",
     "output_type": "stream",
     "text": [
      "<class 'pandas.core.frame.DataFrame'>\n",
      "RangeIndex: 10000 entries, 0 to 9999\n",
      "Columns: 3072 entries, 0 to 3071\n",
      "dtypes: uint8(3072)\n",
      "memory usage: 29.3 MB\n"
     ]
    }
   ],
   "source": [
    "X_valid_df.info()"
   ]
  },
  {
   "cell_type": "code",
   "execution_count": 14,
   "id": "42c64b67",
   "metadata": {},
   "outputs": [
    {
     "data": {
      "text/html": [
       "<div>\n",
       "<style scoped>\n",
       "    .dataframe tbody tr th:only-of-type {\n",
       "        vertical-align: middle;\n",
       "    }\n",
       "\n",
       "    .dataframe tbody tr th {\n",
       "        vertical-align: top;\n",
       "    }\n",
       "\n",
       "    .dataframe thead th {\n",
       "        text-align: right;\n",
       "    }\n",
       "</style>\n",
       "<table border=\"1\" class=\"dataframe\">\n",
       "  <thead>\n",
       "    <tr style=\"text-align: right;\">\n",
       "      <th></th>\n",
       "      <th>Label</th>\n",
       "    </tr>\n",
       "  </thead>\n",
       "  <tbody>\n",
       "    <tr>\n",
       "      <th>count</th>\n",
       "      <td>10000.000000</td>\n",
       "    </tr>\n",
       "    <tr>\n",
       "      <th>mean</th>\n",
       "      <td>4.500000</td>\n",
       "    </tr>\n",
       "    <tr>\n",
       "      <th>std</th>\n",
       "      <td>2.872425</td>\n",
       "    </tr>\n",
       "    <tr>\n",
       "      <th>min</th>\n",
       "      <td>0.000000</td>\n",
       "    </tr>\n",
       "    <tr>\n",
       "      <th>25%</th>\n",
       "      <td>2.000000</td>\n",
       "    </tr>\n",
       "    <tr>\n",
       "      <th>50%</th>\n",
       "      <td>4.500000</td>\n",
       "    </tr>\n",
       "    <tr>\n",
       "      <th>75%</th>\n",
       "      <td>7.000000</td>\n",
       "    </tr>\n",
       "    <tr>\n",
       "      <th>max</th>\n",
       "      <td>9.000000</td>\n",
       "    </tr>\n",
       "  </tbody>\n",
       "</table>\n",
       "</div>"
      ],
      "text/plain": [
       "              Label\n",
       "count  10000.000000\n",
       "mean       4.500000\n",
       "std        2.872425\n",
       "min        0.000000\n",
       "25%        2.000000\n",
       "50%        4.500000\n",
       "75%        7.000000\n",
       "max        9.000000"
      ]
     },
     "execution_count": 14,
     "metadata": {},
     "output_type": "execute_result"
    }
   ],
   "source": [
    "y_valid_df.describe()"
   ]
  },
  {
   "cell_type": "code",
   "execution_count": 15,
   "id": "733aa9b2",
   "metadata": {},
   "outputs": [
    {
     "data": {
      "text/html": [
       "<div>\n",
       "<style scoped>\n",
       "    .dataframe tbody tr th:only-of-type {\n",
       "        vertical-align: middle;\n",
       "    }\n",
       "\n",
       "    .dataframe tbody tr th {\n",
       "        vertical-align: top;\n",
       "    }\n",
       "\n",
       "    .dataframe thead th {\n",
       "        text-align: right;\n",
       "    }\n",
       "</style>\n",
       "<table border=\"1\" class=\"dataframe\">\n",
       "  <thead>\n",
       "    <tr style=\"text-align: right;\">\n",
       "      <th></th>\n",
       "      <th>Label</th>\n",
       "    </tr>\n",
       "  </thead>\n",
       "  <tbody>\n",
       "    <tr>\n",
       "      <th>0</th>\n",
       "      <td>3</td>\n",
       "    </tr>\n",
       "    <tr>\n",
       "      <th>1</th>\n",
       "      <td>8</td>\n",
       "    </tr>\n",
       "    <tr>\n",
       "      <th>2</th>\n",
       "      <td>8</td>\n",
       "    </tr>\n",
       "    <tr>\n",
       "      <th>3</th>\n",
       "      <td>0</td>\n",
       "    </tr>\n",
       "    <tr>\n",
       "      <th>4</th>\n",
       "      <td>6</td>\n",
       "    </tr>\n",
       "  </tbody>\n",
       "</table>\n",
       "</div>"
      ],
      "text/plain": [
       "   Label\n",
       "0      3\n",
       "1      8\n",
       "2      8\n",
       "3      0\n",
       "4      6"
      ]
     },
     "execution_count": 15,
     "metadata": {},
     "output_type": "execute_result"
    }
   ],
   "source": [
    "y_valid_df.head()"
   ]
  },
  {
   "cell_type": "code",
   "execution_count": 16,
   "id": "fd43b4bd",
   "metadata": {},
   "outputs": [
    {
     "name": "stdout",
     "output_type": "stream",
     "text": [
      "<class 'pandas.core.frame.DataFrame'>\n",
      "RangeIndex: 10000 entries, 0 to 9999\n",
      "Data columns (total 1 columns):\n",
      " #   Column  Non-Null Count  Dtype\n",
      "---  ------  --------------  -----\n",
      " 0   Label   10000 non-null  uint8\n",
      "dtypes: uint8(1)\n",
      "memory usage: 9.9 KB\n"
     ]
    }
   ],
   "source": [
    "y_valid_df.info()"
   ]
  },
  {
   "cell_type": "markdown",
   "id": "d24521c2",
   "metadata": {},
   "source": [
    "<h3>Visualization</h3>"
   ]
  },
  {
   "cell_type": "code",
   "execution_count": 17,
   "id": "20503411",
   "metadata": {},
   "outputs": [
    {
     "data": {
      "image/png": "[encoded data removed]",
      "text/plain": [
       "<Figure size 500x500 with 12 Axes>"
      ]
     },
     "metadata": {},
     "output_type": "display_data"
    }
   ],
   "source": [
    "plt.figure(figsize=(5, 5))\n",
    "for k in range(12):\n",
    "    plt.subplot(3, 4, k+1)\n",
    "    plt.imshow(X_train[k], cmap=\"Greys\")\n",
    "    plt.axis(\"off\")\n",
    "plt.tight_layout()\n",
    "plt.show()"
   ]
  },
  {
   "cell_type": "markdown",
   "id": "30ea4995",
   "metadata": {},
   "source": [
    "<h3>Data Transformation</h3>"
   ]
  },
  {
   "cell_type": "code",
   "execution_count": 18,
   "id": "1511fbb1",
   "metadata": {},
   "outputs": [],
   "source": [
    "class_names = [\"airplane\", \"automobile\", \"bird\", \"cat\", \"deer\", \"dog\", \"frog\", \"horse\", \"ship\", \"truck\"]\n",
    "n_classes = 10"
   ]
  },
  {
   "cell_type": "code",
   "execution_count": 19,
   "id": "5bf4f39b",
   "metadata": {},
   "outputs": [
    {
     "data": {
      "text/plain": [
       "array([[[ 59,  62,  63],\n",
       "        [ 43,  46,  45],\n",
       "        [ 50,  48,  43],\n",
       "        ...,\n",
       "        [158, 132, 108],\n",
       "        [152, 125, 102],\n",
       "        [148, 124, 103]],\n",
       "\n",
       "       [[ 16,  20,  20],\n",
       "        [  0,   0,   0],\n",
       "        [ 18,   8,   0],\n",
       "        ...,\n",
       "        [123,  88,  55],\n",
       "        [119,  83,  50],\n",
       "        [122,  87,  57]],\n",
       "\n",
       "       [[ 25,  24,  21],\n",
       "        [ 16,   7,   0],\n",
       "        [ 49,  27,   8],\n",
       "        ...,\n",
       "        [118,  84,  50],\n",
       "        [120,  84,  50],\n",
       "        [109,  73,  42]],\n",
       "\n",
       "       ...,\n",
       "\n",
       "       [[208, 170,  96],\n",
       "        [201, 153,  34],\n",
       "        [198, 161,  26],\n",
       "        ...,\n",
       "        [160, 133,  70],\n",
       "        [ 56,  31,   7],\n",
       "        [ 53,  34,  20]],\n",
       "\n",
       "       [[180, 139,  96],\n",
       "        [173, 123,  42],\n",
       "        [186, 144,  30],\n",
       "        ...,\n",
       "        [184, 148,  94],\n",
       "        [ 97,  62,  34],\n",
       "        [ 83,  53,  34]],\n",
       "\n",
       "       [[177, 144, 116],\n",
       "        [168, 129,  94],\n",
       "        [179, 142,  87],\n",
       "        ...,\n",
       "        [216, 184, 140],\n",
       "        [151, 118,  84],\n",
       "        [123,  92,  72]]], dtype=uint8)"
      ]
     },
     "execution_count": 19,
     "metadata": {},
     "output_type": "execute_result"
    }
   ],
   "source": [
    "X_train[0]"
   ]
  },
  {
   "cell_type": "code",
   "execution_count": 20,
   "id": "be284ffe",
   "metadata": {},
   "outputs": [
    {
     "name": "stdout",
     "output_type": "stream",
     "text": [
      "[6]\n",
      "A value of [6] refers to the class of 'frog'.\n"
     ]
    }
   ],
   "source": [
    "print(y_train[0])\n",
    "print(f\"A value of {y_train[0]} refers to the class of 'frog'.\")"
   ]
  },
  {
   "cell_type": "code",
   "execution_count": 21,
   "id": "ba88aaff",
   "metadata": {},
   "outputs": [],
   "source": [
    "y_train = to_categorical(y_train)\n",
    "y_valid = to_categorical(y_valid)\n",
    "\n",
    "X_train = X_train.astype(\"float32\")\n",
    "X_valid = X_valid.astype(\"float32\")\n",
    "\n",
    "X_train = X_train / 255\n",
    "X_valid = X_valid / 255"
   ]
  },
  {
   "cell_type": "markdown",
   "id": "2bb410d9",
   "metadata": {},
   "source": [
    "<h1>Tuning Hyperparameters</h1>"
   ]
  },
  {
   "cell_type": "markdown",
   "id": "8d19d63b",
   "metadata": {},
   "source": [
    "<p>This is a basic model, with guesses and assumptions for hyperparameter values</p>"
   ]
  },
  {
   "cell_type": "code",
   "execution_count": 22,
   "id": "926c6880",
   "metadata": {},
   "outputs": [],
   "source": [
    "#Instatiate the model\n",
    "model = Sequential()\n",
    "\n",
    "#Input layer\n",
    "model.add(Conv2D(32, kernel_size=(3, 3), activation=\"relu\", input_shape=(32, 32, 3)))\n",
    "\n",
    "#Convolutional and Pooling layers\n",
    "model.add(Conv2D(64, kernel_size=(3, 3), activation=\"relu\"))\n",
    "model.add(MaxPooling2D(pool_size=(2, 2)))\n",
    "model.add(Dropout(0.25))\n",
    "model.add(Flatten())\n",
    "\n",
    "#Dense hidden layer\n",
    "model.add(Dense(128, activation=\"relu\"))\n",
    "model.add(Dropout(0.5))\n",
    "\n",
    "#Output layer\n",
    "model.add(Dense(n_classes, activation=\"softmax\"))"
   ]
  },
  {
   "cell_type": "code",
   "execution_count": 23,
   "id": "70f4d454",
   "metadata": {},
   "outputs": [
    {
     "name": "stdout",
     "output_type": "stream",
     "text": [
      "Model: \"sequential\"\n",
      "_________________________________________________________________\n",
      " Layer (type)                Output Shape              Param #   \n",
      "=================================================================\n",
      " conv2d (Conv2D)             (None, 30, 30, 32)        896       \n",
      "                                                                 \n",
      " conv2d_1 (Conv2D)           (None, 28, 28, 64)        18496     \n",
      "                                                                 \n",
      " max_pooling2d (MaxPooling2D  (None, 14, 14, 64)       0         \n",
      " )                                                               \n",
      "                                                                 \n",
      " dropout (Dropout)           (None, 14, 14, 64)        0         \n",
      "                                                                 \n",
      " flatten (Flatten)           (None, 12544)             0         \n",
      "                                                                 \n",
      " dense (Dense)               (None, 128)               1605760   \n",
      "                                                                 \n",
      " dropout_1 (Dropout)         (None, 128)               0         \n",
      "                                                                 \n",
      " dense_1 (Dense)             (None, 10)                1290      \n",
      "                                                                 \n",
      "=================================================================\n",
      "Total params: 1,626,442\n",
      "Trainable params: 1,626,442\n",
      "Non-trainable params: 0\n",
      "_________________________________________________________________\n"
     ]
    }
   ],
   "source": [
    "#Model summary\n",
    "model.summary()"
   ]
  },
  {
   "cell_type": "code",
   "execution_count": 24,
   "id": "e106344f",
   "metadata": {},
   "outputs": [],
   "source": [
    "model.compile(loss=\"categorical_crossentropy\", optimizer=\"adam\", metrics=[\"Accuracy\"])"
   ]
  },
  {
   "cell_type": "code",
   "execution_count": 25,
   "id": "094cf0ce",
   "metadata": {},
   "outputs": [
    {
     "name": "stdout",
     "output_type": "stream",
     "text": [
      "Epoch 1/10\n",
      "391/391 [==============================] - 43s 109ms/step - loss: 1.7031 - Accuracy: 0.3773 - val_loss: 1.3507 - val_Accuracy: 0.5368\n",
      "Epoch 2/10\n",
      "391/391 [==============================] - 40s 101ms/step - loss: 1.3700 - Accuracy: 0.5060 - val_loss: 1.1647 - val_Accuracy: 0.5946\n",
      "Epoch 3/10\n",
      "391/391 [==============================] - 39s 100ms/step - loss: 1.2284 - Accuracy: 0.5617 - val_loss: 1.0662 - val_Accuracy: 0.6287\n",
      "Epoch 4/10\n",
      "391/391 [==============================] - 40s 101ms/step - loss: 1.1491 - Accuracy: 0.5889 - val_loss: 1.0005 - val_Accuracy: 0.6523\n",
      "Epoch 5/10\n",
      "391/391 [==============================] - 39s 101ms/step - loss: 1.0991 - Accuracy: 0.6098 - val_loss: 1.0159 - val_Accuracy: 0.6493\n",
      "Epoch 6/10\n",
      "391/391 [==============================] - 40s 101ms/step - loss: 1.0489 - Accuracy: 0.6289 - val_loss: 0.9522 - val_Accuracy: 0.6675\n",
      "Epoch 7/10\n",
      "391/391 [==============================] - 39s 101ms/step - loss: 1.0002 - Accuracy: 0.6443 - val_loss: 0.9290 - val_Accuracy: 0.6736\n",
      "Epoch 8/10\n",
      "391/391 [==============================] - 39s 101ms/step - loss: 0.9639 - Accuracy: 0.6570 - val_loss: 0.9188 - val_Accuracy: 0.6804\n",
      "Epoch 9/10\n",
      "391/391 [==============================] - 40s 101ms/step - loss: 0.9287 - Accuracy: 0.6697 - val_loss: 0.9027 - val_Accuracy: 0.6886\n",
      "Epoch 10/10\n",
      "391/391 [==============================] - 39s 100ms/step - loss: 0.8912 - Accuracy: 0.6815 - val_loss: 0.9039 - val_Accuracy: 0.6800\n"
     ]
    },
    {
     "data": {
      "text/plain": [
       "<keras.callbacks.History at 0x1c1ddae65b0>"
      ]
     },
     "execution_count": 25,
     "metadata": {},
     "output_type": "execute_result"
    }
   ],
   "source": [
    "model.fit(X_train, y_train, batch_size=128, epochs=10, verbose=1, validation_data=(X_valid, y_valid))"
   ]
  },
  {
   "cell_type": "code",
   "execution_count": null,
   "id": "def5c10a",
   "metadata": {},
   "outputs": [],
   "source": []
  },
  {
   "cell_type": "code",
   "execution_count": 26,
   "id": "e4e0e0bf",
   "metadata": {},
   "outputs": [
    {
     "data": {
      "text/plain": [
       "<matplotlib.legend.Legend at 0x1c1e98748e0>"
      ]
     },
     "execution_count": 26,
     "metadata": {},
     "output_type": "execute_result"
    },
    {
     "data": {
      "image/png": "[encoded data removed]",
      "text/plain": [
       "<Figure size 1200x600 with 1 Axes>"
      ]
     },
     "metadata": {},
     "output_type": "display_data"
    }
   ],
   "source": [
    "plt.figure(figsize=(12, 6))\n",
    "plt.plot(model.history.history[\"loss\"][:])\n",
    "plt.plot(model.history.history[\"val_loss\"][:])\n",
    "plt.title(\"Model Loss\")\n",
    "plt.xlabel(\"Epoch\")\n",
    "plt.ylabel(\"Loss (CCE)\")\n",
    "plt.legend([\"Training\", \"Validation\"], loc=\"upper right\")"
   ]
  },
  {
   "cell_type": "code",
   "execution_count": 27,
   "id": "6176454c",
   "metadata": {},
   "outputs": [
    {
     "name": "stdout",
     "output_type": "stream",
     "text": [
      "313/313 [==============================] - 2s 7ms/step - loss: 0.9039 - Accuracy: 0.6800\n"
     ]
    }
   ],
   "source": [
    "basic_loss, basic_accuracy = model.evaluate(X_valid, y_valid)"
   ]
  },
  {
   "cell_type": "code",
   "execution_count": 28,
   "id": "6572e253",
   "metadata": {},
   "outputs": [
    {
     "name": "stdout",
     "output_type": "stream",
     "text": [
      "The basic model's loss is: 0.90\n",
      "The basic model's accuracy is: 0.68\n"
     ]
    }
   ],
   "source": [
    "print(f\"The basic model's loss is: {basic_loss:.2f}\")\n",
    "print(f\"The basic model's accuracy is: {basic_accuracy:.2f}\")"
   ]
  },
  {
   "cell_type": "markdown",
   "id": "4c00f90b",
   "metadata": {},
   "source": [
    "<h1>Applying Deep Learning Techniques</h1>"
   ]
  },
  {
   "cell_type": "markdown",
   "id": "d9626fee",
   "metadata": {},
   "source": [
    "<p>Hyperparameter tuning with Keras Tuner</p>"
   ]
  },
  {
   "cell_type": "code",
   "execution_count": 30,
   "id": "2ca2fdf5",
   "metadata": {},
   "outputs": [
    {
     "name": "stdout",
     "output_type": "stream",
     "text": [
      "The folder 'hyperparameter_tuning/CISB62_Midterm' does not exist.\n"
     ]
    }
   ],
   "source": [
    "#Clearing existing data for previous trials\n",
    "folder_path = \"hyperparameter_tuning/CISB62_Midterm\"\n",
    "\n",
    "if os.path.exists(folder_path):\n",
    "    shutil.rmtree(folder_path)\n",
    "    print(f\"The folder '{hyperparameter_tuning}' has been deleted.\")\n",
    "else:\n",
    "    print(f\"The folder '{folder_path}' does not exist.\")"
   ]
  },
  {
   "cell_type": "code",
   "execution_count": 31,
   "id": "ef097ffa",
   "metadata": {},
   "outputs": [],
   "source": [
    "#Function to create a model\n",
    "def model_builder(hp):\n",
    "    model = Sequential()\n",
    "    \n",
    "    hp_filters = hp.Int(\"filters\", min_value=4, max_value=20, step=4)\n",
    "    \n",
    "    #Input layer\n",
    "    model.add(Conv2D(filters=hp_filters, kernel_size=(3, 3), activation=\"relu\", input_shape=(32, 32, 3)))\n",
    "    \n",
    "    #Convolutional and Pooling layer\n",
    "    model.add(Conv2D(64, kernel_size=(3, 3), activation=\"relu\"))\n",
    "    model.add(MaxPooling2D(pool_size=(2, 2)))\n",
    "    model.add(Dropout(0.25))\n",
    "    model.add(Flatten())\n",
    "    \n",
    "    #Dense hidden layer\n",
    "    model.add(Dense(128, activation=\"relu\"))\n",
    "    model.add(Dropout(0.5))\n",
    "    \n",
    "    #Output layer\n",
    "    model.add(Dense(n_classes, activation=\"softmax\"))\n",
    "    \n",
    "    #Compiling the model\n",
    "    model.compile(loss=\"categorical_crossentropy\", optimizer=\"adam\", metrics=[\"accuracy\"])\n",
    "    \n",
    "    return model"
   ]
  },
  {
   "cell_type": "code",
   "execution_count": 32,
   "id": "ed069f96",
   "metadata": {},
   "outputs": [],
   "source": [
    "#Hyperparameter tuner\n",
    "tuner = kt.Hyperband(model_builder, objective=\"val_accuracy\", max_epochs=10, factor=3, directory=\"hyperparameter_tuning\", project_name=\"CISB62_Midterm\")"
   ]
  },
  {
   "cell_type": "code",
   "execution_count": 33,
   "id": "2264f7f1",
   "metadata": {},
   "outputs": [],
   "source": [
    "#Early stopping variable\n",
    "stop_early = tf.keras.callbacks.EarlyStopping(monitor=\"val_loss\", patience=5)"
   ]
  },
  {
   "cell_type": "code",
   "execution_count": 34,
   "id": "6b097849",
   "metadata": {},
   "outputs": [
    {
     "name": "stdout",
     "output_type": "stream",
     "text": [
      "Trial 5 Complete [00h 01m 19s]\n",
      "val_accuracy: 0.6191999912261963\n",
      "\n",
      "Best val_accuracy So Far: 0.6191999912261963\n",
      "Total elapsed time: 00h 09m 15s\n",
      "The hyperparameter search is complete. The optimal number of filters in the first dense layer is 12\n"
     ]
    }
   ],
   "source": [
    "#Searching for optimal values: Filters\n",
    "tuner.search(X_train, y_train, epochs=10, validation_split=0.2, callbacks=[stop_early])\n",
    "\n",
    "best_hps = tuner.get_best_hyperparameters(num_trials=1)[0]\n",
    "\n",
    "print(f\"The hyperparameter search is complete. The optimal number of filters in the first dense layer is {best_hps.get('filters')}\")"
   ]
  },
  {
   "cell_type": "code",
   "execution_count": 36,
   "id": "6b41568b",
   "metadata": {},
   "outputs": [
    {
     "name": "stdout",
     "output_type": "stream",
     "text": [
      "Epoch 1/20\n",
      "1250/1250 [==============================] - 41s 32ms/step - loss: 1.6280 - accuracy: 0.4054 - val_loss: 1.2995 - val_accuracy: 0.5405\n",
      "Epoch 2/20\n",
      "1250/1250 [==============================] - 35s 28ms/step - loss: 1.3224 - accuracy: 0.5273 - val_loss: 1.1215 - val_accuracy: 0.6093\n",
      "Epoch 3/20\n",
      "1250/1250 [==============================] - 35s 28ms/step - loss: 1.1988 - accuracy: 0.5750 - val_loss: 1.0312 - val_accuracy: 0.6331\n",
      "Epoch 4/20\n",
      "1250/1250 [==============================] - 36s 29ms/step - loss: 1.1074 - accuracy: 0.6052 - val_loss: 0.9821 - val_accuracy: 0.6574\n",
      "Epoch 5/20\n",
      "1250/1250 [==============================] - 35s 28ms/step - loss: 1.0353 - accuracy: 0.6306 - val_loss: 0.9585 - val_accuracy: 0.6661\n",
      "Epoch 6/20\n",
      "1250/1250 [==============================] - 34s 27ms/step - loss: 0.9743 - accuracy: 0.6528 - val_loss: 0.9706 - val_accuracy: 0.6594\n",
      "Epoch 7/20\n",
      "1250/1250 [==============================] - 35s 28ms/step - loss: 0.9247 - accuracy: 0.6717 - val_loss: 0.9541 - val_accuracy: 0.6691\n",
      "Epoch 8/20\n",
      "1250/1250 [==============================] - 34s 27ms/step - loss: 0.8762 - accuracy: 0.6876 - val_loss: 0.9854 - val_accuracy: 0.6652\n",
      "Epoch 9/20\n",
      "1250/1250 [==============================] - 36s 29ms/step - loss: 0.8399 - accuracy: 0.6993 - val_loss: 0.9129 - val_accuracy: 0.6898\n",
      "Epoch 10/20\n",
      "1250/1250 [==============================] - 37s 30ms/step - loss: 0.8008 - accuracy: 0.7152 - val_loss: 0.9115 - val_accuracy: 0.6841\n",
      "Epoch 11/20\n",
      "1250/1250 [==============================] - 36s 29ms/step - loss: 0.7668 - accuracy: 0.7260 - val_loss: 0.9164 - val_accuracy: 0.6846\n",
      "Epoch 12/20\n",
      "1250/1250 [==============================] - 37s 29ms/step - loss: 0.7211 - accuracy: 0.7386 - val_loss: 0.9229 - val_accuracy: 0.6916\n",
      "Epoch 13/20\n",
      "1250/1250 [==============================] - 33s 26ms/step - loss: 0.6990 - accuracy: 0.7430 - val_loss: 0.9270 - val_accuracy: 0.6913\n",
      "Epoch 14/20\n",
      "1250/1250 [==============================] - 36s 29ms/step - loss: 0.6742 - accuracy: 0.7559 - val_loss: 0.9312 - val_accuracy: 0.6881\n",
      "Epoch 15/20\n",
      "1250/1250 [==============================] - 35s 28ms/step - loss: 0.6436 - accuracy: 0.7655 - val_loss: 0.9566 - val_accuracy: 0.6925\n",
      "Epoch 16/20\n",
      "1250/1250 [==============================] - 36s 29ms/step - loss: 0.6233 - accuracy: 0.7721 - val_loss: 0.9905 - val_accuracy: 0.6891\n",
      "Epoch 17/20\n",
      "1250/1250 [==============================] - 35s 28ms/step - loss: 0.6048 - accuracy: 0.7778 - val_loss: 0.9919 - val_accuracy: 0.6882\n",
      "Epoch 18/20\n",
      "1250/1250 [==============================] - 35s 28ms/step - loss: 0.5862 - accuracy: 0.7861 - val_loss: 0.9976 - val_accuracy: 0.6919\n",
      "Epoch 19/20\n",
      "1250/1250 [==============================] - 34s 27ms/step - loss: 0.5635 - accuracy: 0.7908 - val_loss: 1.0369 - val_accuracy: 0.6893\n",
      "Epoch 20/20\n",
      "1250/1250 [==============================] - 36s 29ms/step - loss: 0.5525 - accuracy: 0.7942 - val_loss: 0.9979 - val_accuracy: 0.6959\n",
      "Best epoch: 20\n"
     ]
    }
   ],
   "source": [
    "#Searching for optimal values: Epochs\n",
    "model = tuner.hypermodel.build(best_hps)\n",
    "history = model.fit(X_train, y_train, epochs=20, validation_split=0.2)\n",
    "\n",
    "val_acc_per_epoch = history.history[\"val_accuracy\"]\n",
    "best_epoch = val_acc_per_epoch.index(max(val_acc_per_epoch)) + 1\n",
    "\n",
    "print(\"Best epoch: %d\" % (best_epoch,))"
   ]
  },
  {
   "cell_type": "code",
   "execution_count": 37,
   "id": "a1126416",
   "metadata": {},
   "outputs": [
    {
     "name": "stdout",
     "output_type": "stream",
     "text": [
      "Epoch 1/20\n",
      "1250/1250 [==============================] - 35s 28ms/step - loss: 1.6227 - accuracy: 0.4080 - val_loss: 1.2489 - val_accuracy: 0.5692\n",
      "Epoch 2/20\n",
      "1250/1250 [==============================] - 37s 29ms/step - loss: 1.3053 - accuracy: 0.5304 - val_loss: 1.0890 - val_accuracy: 0.6127\n",
      "Epoch 3/20\n",
      "1250/1250 [==============================] - 34s 27ms/step - loss: 1.1712 - accuracy: 0.5827 - val_loss: 1.0288 - val_accuracy: 0.6409\n",
      "Epoch 4/20\n",
      "1250/1250 [==============================] - 33s 27ms/step - loss: 1.0762 - accuracy: 0.6145 - val_loss: 1.0061 - val_accuracy: 0.6496\n",
      "Epoch 5/20\n",
      "1250/1250 [==============================] - 34s 27ms/step - loss: 1.0099 - accuracy: 0.6375 - val_loss: 0.9461 - val_accuracy: 0.6675\n",
      "Epoch 6/20\n",
      "1250/1250 [==============================] - 33s 27ms/step - loss: 0.9398 - accuracy: 0.6626 - val_loss: 0.9759 - val_accuracy: 0.6558\n",
      "Epoch 7/20\n",
      "1250/1250 [==============================] - 34s 27ms/step - loss: 0.8903 - accuracy: 0.6795 - val_loss: 0.9702 - val_accuracy: 0.6687\n",
      "Epoch 8/20\n",
      "1250/1250 [==============================] - 35s 28ms/step - loss: 0.8435 - accuracy: 0.6954 - val_loss: 0.9262 - val_accuracy: 0.6806\n",
      "Epoch 9/20\n",
      "1250/1250 [==============================] - 36s 29ms/step - loss: 0.7996 - accuracy: 0.7097 - val_loss: 0.9431 - val_accuracy: 0.6775\n",
      "Epoch 10/20\n",
      "1250/1250 [==============================] - 36s 29ms/step - loss: 0.7666 - accuracy: 0.7212 - val_loss: 0.9394 - val_accuracy: 0.6854\n",
      "Epoch 11/20\n",
      "1250/1250 [==============================] - 35s 28ms/step - loss: 0.7210 - accuracy: 0.7387 - val_loss: 0.9549 - val_accuracy: 0.6752\n",
      "Epoch 12/20\n",
      "1250/1250 [==============================] - 35s 28ms/step - loss: 0.6941 - accuracy: 0.7470 - val_loss: 0.9419 - val_accuracy: 0.6835\n",
      "Epoch 13/20\n",
      "1250/1250 [==============================] - 33s 27ms/step - loss: 0.6661 - accuracy: 0.7594 - val_loss: 0.9471 - val_accuracy: 0.6873\n",
      "Epoch 14/20\n",
      "1250/1250 [==============================] - 34s 27ms/step - loss: 0.6317 - accuracy: 0.7716 - val_loss: 0.9425 - val_accuracy: 0.6912\n",
      "Epoch 15/20\n",
      "1250/1250 [==============================] - 36s 29ms/step - loss: 0.6102 - accuracy: 0.7768 - val_loss: 0.9693 - val_accuracy: 0.6878\n",
      "Epoch 16/20\n",
      "1250/1250 [==============================] - 34s 27ms/step - loss: 0.5915 - accuracy: 0.7824 - val_loss: 1.0213 - val_accuracy: 0.6781\n",
      "Epoch 17/20\n",
      "1250/1250 [==============================] - 35s 28ms/step - loss: 0.5738 - accuracy: 0.7885 - val_loss: 1.0386 - val_accuracy: 0.6829\n",
      "Epoch 18/20\n",
      "1250/1250 [==============================] - 37s 29ms/step - loss: 0.5518 - accuracy: 0.7969 - val_loss: 1.0299 - val_accuracy: 0.6852\n",
      "Epoch 19/20\n",
      "1250/1250 [==============================] - 37s 30ms/step - loss: 0.5414 - accuracy: 0.8020 - val_loss: 1.0054 - val_accuracy: 0.6893\n",
      "Epoch 20/20\n",
      "1250/1250 [==============================] - 38s 30ms/step - loss: 0.5136 - accuracy: 0.8098 - val_loss: 1.0283 - val_accuracy: 0.6920\n"
     ]
    },
    {
     "data": {
      "text/plain": [
       "<keras.callbacks.History at 0x1c1f2d48790>"
      ]
     },
     "execution_count": 37,
     "metadata": {},
     "output_type": "execute_result"
    }
   ],
   "source": [
    "#Building a model using the optimal values\n",
    "hypermodel = tuner.hypermodel.build(best_hps)\n",
    "hypermodel.fit(X_train, y_train, epochs=best_epoch, validation_split=0.2)"
   ]
  },
  {
   "cell_type": "markdown",
   "id": "210b882c",
   "metadata": {},
   "source": [
    "<p>Evaluating the hypermodel on test data.</p>"
   ]
  },
  {
   "cell_type": "code",
   "execution_count": 38,
   "id": "224cce5d",
   "metadata": {},
   "outputs": [
    {
     "name": "stdout",
     "output_type": "stream",
     "text": [
      "1563/1563 [==============================] - 11s 7ms/step - loss: 0.3614 - accuracy: 0.9029\n",
      "[Test Loss, Test, Accuracy]: [0.3613594174385071, 0.9028800129890442]\n"
     ]
    }
   ],
   "source": [
    "eval_result = hypermodel.evaluate(X_train, y_train)\n",
    "\n",
    "print(\"[Test Loss, Test, Accuracy]:\", eval_result)"
   ]
  },
  {
   "cell_type": "code",
   "execution_count": 39,
   "id": "2d14a0c8",
   "metadata": {},
   "outputs": [
    {
     "data": {
      "text/plain": [
       "<matplotlib.legend.Legend at 0x1c1f38725b0>"
      ]
     },
     "execution_count": 39,
     "metadata": {},
     "output_type": "execute_result"
    },
    {
     "data": {
      "image/png": "[encoded data removed]",
      "text/plain": [
       "<Figure size 1200x600 with 1 Axes>"
      ]
     },
     "metadata": {},
     "output_type": "display_data"
    }
   ],
   "source": [
    "plt.figure(figsize=(12, 6))\n",
    "plt.plot(model.history.history[\"loss\"][:])\n",
    "plt.plot(model.history.history[\"val_loss\"][:])\n",
    "plt.title(\"Tuned Model Loss\")\n",
    "plt.xlabel(\"Epoch\")\n",
    "plt.ylabel(\"Loss (MSE)\")\n",
    "plt.legend([\"Training\", \"Validation\"], loc=\"upper right\")"
   ]
  },
  {
   "cell_type": "code",
   "execution_count": 40,
   "id": "460a0821",
   "metadata": {},
   "outputs": [
    {
     "name": "stdout",
     "output_type": "stream",
     "text": [
      "313/313 [==============================] - 2s 5ms/step\n"
     ]
    },
    {
     "data": {
      "text/plain": [
       "array([[2.16775061e-05, 1.01118516e-04, 9.30281414e-04, 9.42361116e-01,\n",
       "        3.14277495e-05, 5.36066517e-02, 2.34575011e-03, 4.32498346e-04,\n",
       "        1.29223074e-04, 4.01980833e-05],\n",
       "       [8.62683926e-04, 2.69109309e-01, 4.57840918e-11, 2.02925459e-12,\n",
       "        8.61710811e-16, 2.32569646e-15, 8.26927614e-16, 3.44548565e-19,\n",
       "        7.29989409e-01, 3.85104613e-05],\n",
       "       [1.30412787e-01, 1.71356648e-02, 2.59456516e-04, 1.97324829e-04,\n",
       "        7.39778261e-05, 1.86343118e-06, 1.94123731e-06, 1.48028118e-06,\n",
       "        8.50921214e-01, 9.94337723e-04],\n",
       "       [7.32468784e-01, 1.01485327e-01, 1.00839057e-03, 4.64276563e-05,\n",
       "        3.29479553e-05, 4.44122776e-07, 5.01559271e-06, 1.09159066e-06,\n",
       "        1.39624804e-01, 2.53268443e-02],\n",
       "       [2.84187198e-08, 2.82258810e-07, 5.00642927e-05, 3.88244420e-01,\n",
       "        1.82053372e-02, 9.96706635e-03, 5.83532453e-01, 3.68916545e-07,\n",
       "        1.03449060e-09, 2.14433946e-08]], dtype=float32)"
      ]
     },
     "execution_count": 40,
     "metadata": {},
     "output_type": "execute_result"
    }
   ],
   "source": [
    "y_pred = model.predict(X_valid)\n",
    "mae = mean_absolute_error(y_valid, y_pred)\n",
    "\n",
    "y_pred[0:5]"
   ]
  },
  {
   "cell_type": "code",
   "execution_count": 41,
   "id": "d1a33074",
   "metadata": {},
   "outputs": [
    {
     "name": "stdout",
     "output_type": "stream",
     "text": [
      "The Mean Absolute Error is: 0.07360576093196869\n"
     ]
    }
   ],
   "source": [
    "print(f\"The Mean Absolute Error is: {mae}\")"
   ]
  },
  {
   "cell_type": "markdown",
   "id": "e8dbdc1d",
   "metadata": {},
   "source": [
    "<p>Comparing prediction values and actual values</p>"
   ]
  },
  {
   "cell_type": "code",
   "execution_count": 42,
   "id": "2bf0cfa7",
   "metadata": {},
   "outputs": [
    {
     "data": {
      "text/plain": [
       "array([1.3196096e-05, 4.0640148e-06, 4.0570949e-04, 6.6787854e-02,\n",
       "       6.7576630e-06, 9.2672271e-01, 1.8823856e-08, 6.0563381e-03,\n",
       "       2.6731841e-09, 3.3439558e-06], dtype=float32)"
      ]
     },
     "execution_count": 42,
     "metadata": {},
     "output_type": "execute_result"
    }
   ],
   "source": [
    "y_pred[42]"
   ]
  },
  {
   "cell_type": "code",
   "execution_count": 43,
   "id": "e374f92c",
   "metadata": {},
   "outputs": [
    {
     "ename": "ValueError",
     "evalue": "cannot reshape array of size 3072 into shape (1,14)",
     "output_type": "error",
     "traceback": [
      "\u001b[1;31m---------------------------------------------------------------------------\u001b[0m",
      "\u001b[1;31mValueError\u001b[0m                                Traceback (most recent call last)",
      "Cell \u001b[1;32mIn[43], line 1\u001b[0m\n\u001b[1;32m----> 1\u001b[0m model\u001b[38;5;241m.\u001b[39mpredict(\u001b[43mnp\u001b[49m\u001b[38;5;241;43m.\u001b[39;49m\u001b[43mreshape\u001b[49m\u001b[43m(\u001b[49m\u001b[43mX_valid\u001b[49m\u001b[43m[\u001b[49m\u001b[38;5;241;43m42\u001b[39;49m\u001b[43m]\u001b[49m\u001b[43m,\u001b[49m\u001b[43m \u001b[49m\u001b[43m[\u001b[49m\u001b[38;5;241;43m1\u001b[39;49m\u001b[43m,\u001b[49m\u001b[43m \u001b[49m\u001b[38;5;241;43m14\u001b[39;49m\u001b[43m]\u001b[49m\u001b[43m)\u001b[49m)\n",
      "File \u001b[1;32m~\\anaconda3\\envs\\p3918\\lib\\site-packages\\numpy\\core\\fromnumeric.py:285\u001b[0m, in \u001b[0;36mreshape\u001b[1;34m(a, newshape, order)\u001b[0m\n\u001b[0;32m    200\u001b[0m \u001b[38;5;129m@array_function_dispatch\u001b[39m(_reshape_dispatcher)\n\u001b[0;32m    201\u001b[0m \u001b[38;5;28;01mdef\u001b[39;00m \u001b[38;5;21mreshape\u001b[39m(a, newshape, order\u001b[38;5;241m=\u001b[39m\u001b[38;5;124m'\u001b[39m\u001b[38;5;124mC\u001b[39m\u001b[38;5;124m'\u001b[39m):\n\u001b[0;32m    202\u001b[0m \u001b[38;5;250m    \u001b[39m\u001b[38;5;124;03m\"\"\"\u001b[39;00m\n\u001b[0;32m    203\u001b[0m \u001b[38;5;124;03m    Gives a new shape to an array without changing its data.\u001b[39;00m\n\u001b[0;32m    204\u001b[0m \n\u001b[1;32m   (...)\u001b[0m\n\u001b[0;32m    283\u001b[0m \u001b[38;5;124;03m           [5, 6]])\u001b[39;00m\n\u001b[0;32m    284\u001b[0m \u001b[38;5;124;03m    \"\"\"\u001b[39;00m\n\u001b[1;32m--> 285\u001b[0m     \u001b[38;5;28;01mreturn\u001b[39;00m \u001b[43m_wrapfunc\u001b[49m\u001b[43m(\u001b[49m\u001b[43ma\u001b[49m\u001b[43m,\u001b[49m\u001b[43m \u001b[49m\u001b[38;5;124;43m'\u001b[39;49m\u001b[38;5;124;43mreshape\u001b[39;49m\u001b[38;5;124;43m'\u001b[39;49m\u001b[43m,\u001b[49m\u001b[43m \u001b[49m\u001b[43mnewshape\u001b[49m\u001b[43m,\u001b[49m\u001b[43m \u001b[49m\u001b[43morder\u001b[49m\u001b[38;5;241;43m=\u001b[39;49m\u001b[43morder\u001b[49m\u001b[43m)\u001b[49m\n",
      "File \u001b[1;32m~\\anaconda3\\envs\\p3918\\lib\\site-packages\\numpy\\core\\fromnumeric.py:59\u001b[0m, in \u001b[0;36m_wrapfunc\u001b[1;34m(obj, method, *args, **kwds)\u001b[0m\n\u001b[0;32m     56\u001b[0m     \u001b[38;5;28;01mreturn\u001b[39;00m _wrapit(obj, method, \u001b[38;5;241m*\u001b[39margs, \u001b[38;5;241m*\u001b[39m\u001b[38;5;241m*\u001b[39mkwds)\n\u001b[0;32m     58\u001b[0m \u001b[38;5;28;01mtry\u001b[39;00m:\n\u001b[1;32m---> 59\u001b[0m     \u001b[38;5;28;01mreturn\u001b[39;00m bound(\u001b[38;5;241m*\u001b[39margs, \u001b[38;5;241m*\u001b[39m\u001b[38;5;241m*\u001b[39mkwds)\n\u001b[0;32m     60\u001b[0m \u001b[38;5;28;01mexcept\u001b[39;00m \u001b[38;5;167;01mTypeError\u001b[39;00m:\n\u001b[0;32m     61\u001b[0m     \u001b[38;5;66;03m# A TypeError occurs if the object does have such a method in its\u001b[39;00m\n\u001b[0;32m     62\u001b[0m     \u001b[38;5;66;03m# class, but its signature is not identical to that of NumPy's. This\u001b[39;00m\n\u001b[1;32m   (...)\u001b[0m\n\u001b[0;32m     66\u001b[0m     \u001b[38;5;66;03m# Call _wrapit from within the except clause to ensure a potential\u001b[39;00m\n\u001b[0;32m     67\u001b[0m     \u001b[38;5;66;03m# exception has a traceback chain.\u001b[39;00m\n\u001b[0;32m     68\u001b[0m     \u001b[38;5;28;01mreturn\u001b[39;00m _wrapit(obj, method, \u001b[38;5;241m*\u001b[39margs, \u001b[38;5;241m*\u001b[39m\u001b[38;5;241m*\u001b[39mkwds)\n",
      "\u001b[1;31mValueError\u001b[0m: cannot reshape array of size 3072 into shape (1,14)"
     ]
    }
   ],
   "source": [
    "model.predict(np.reshape(X_valid[42], [1, 14]))"
   ]
  },
  {
   "cell_type": "markdown",
   "id": "891c8ec0",
   "metadata": {},
   "source": [
    "<h1>Summary and Conclusion</h1>"
   ]
  },
  {
   "cell_type": "markdown",
   "id": "ca1af4a7",
   "metadata": {},
   "source": [
    "<h3>Summary</h3>"
   ]
  },
  {
   "cell_type": "code",
   "execution_count": 45,
   "id": "09eba406",
   "metadata": {},
   "outputs": [
    {
     "name": "stdout",
     "output_type": "stream",
     "text": [
      "Basic Loss: 0.903936\n",
      "Basic Accuracy: 0.680000\n",
      "Tuned Loss 0.3613594174385071\n",
      "Tuned Accuracy 0.9028800129890442\n"
     ]
    }
   ],
   "source": [
    "epoch_num = [\"Basic Model Epochs\", \"Tuned Model Epochs\"]\n",
    "epoch_times = [\"Basic Model Time\", \"Tuned Model Time\"]\n",
    "loss_value = [\"Basic Model Loss\", \"Tuned Model Loss\"]\n",
    "accuracy_values = [\"Basic Model Accuracy\", \"Tuned Model Accuracy\"]\n",
    "\n",
    "basic_epoch_num = 10\n",
    "\n",
    "basic_epoch_times = np.array([43, 40, 39, 40, 39, 40, 39, 39, 40, 40])\n",
    "basic_epoch_avg = np.mean(basic_epoch_times)\n",
    "\n",
    "tuned_epoch_num = 20\n",
    "\n",
    "tuned_epoch_times = np.array([35, 37, 34, 33, 34, 33, 34, 35, 36, 36, 35, 35, 33, 34, 36, 34, 35, 37, 37, 38])\n",
    "tuned_epoch_avg = np.mean(tuned_epoch_times)\n",
    "\n",
    "print(f\"Basic Loss: {basic_loss:2f}\")\n",
    "print(f\"Basic Accuracy: {basic_accuracy:2f}\")\n",
    "\n",
    "print(\"Tuned Loss\", eval_result[0])\n",
    "print(\"Tuned Accuracy\", eval_result[1])\n",
    "\n",
    "epochs = [basic_epoch_num, tuned_epoch_num]\n",
    "times = [basic_epoch_avg, tuned_epoch_avg]\n",
    "losses = [basic_loss, eval_result[0]]\n",
    "accuracies = [basic_accuracy, eval_result[1]]"
   ]
  },
  {
   "cell_type": "code",
   "execution_count": 46,
   "id": "02c2f6a6",
   "metadata": {},
   "outputs": [],
   "source": [
    "def plot_values(data_labels, data_points, ylabel, title):\n",
    "    fig, ax = plt.subplots()\n",
    "    ax.bar(data_labels, data_points)\n",
    "    ax.set_ylabel(ylabel)\n",
    "    ax.set_title(title)\n",
    "    plt.show()"
   ]
  },
  {
   "cell_type": "code",
   "execution_count": 47,
   "id": "4142cbdb",
   "metadata": {
    "scrolled": false
   },
   "outputs": [
    {
     "data": {
      "image/png": "[encoded data removed]",
      "text/plain": [
       "<Figure size 640x480 with 1 Axes>"
      ]
     },
     "metadata": {},
     "output_type": "display_data"
    }
   ],
   "source": [
    "#Number of epochs\n",
    "plot_values(epoch_num, epochs, ylabel=\"Epochs\", title=\"Number of Epochs\")"
   ]
  },
  {
   "cell_type": "code",
   "execution_count": 48,
   "id": "a8a0906a",
   "metadata": {},
   "outputs": [
    {
     "data": {
      "image/png": "[encoded data removed]",
      "text/plain": [
       "<Figure size 640x480 with 1 Axes>"
      ]
     },
     "metadata": {},
     "output_type": "display_data"
    }
   ],
   "source": [
    "#Average time of epochs\n",
    "plot_values(epoch_times, times, ylabel=\"Average Time in Seconds\", title=\"Average Time of Epochs\")"
   ]
  },
  {
   "cell_type": "code",
   "execution_count": 49,
   "id": "05a8512d",
   "metadata": {},
   "outputs": [
    {
     "data": {
      "image/png": "[encoded data removed]",
      "text/plain": [
       "<Figure size 640x480 with 1 Axes>"
      ]
     },
     "metadata": {},
     "output_type": "display_data"
    }
   ],
   "source": [
    "#Loss\n",
    "plot_values(loss_value, losses, ylabel=\"Loss\", title=\"Model Loss\")"
   ]
  },
  {
   "cell_type": "code",
   "execution_count": 50,
   "id": "58c09d4b",
   "metadata": {},
   "outputs": [
    {
     "data": {
      "image/png": "[encoded data removed]",
      "text/plain": [
       "<Figure size 640x480 with 1 Axes>"
      ]
     },
     "metadata": {},
     "output_type": "display_data"
    }
   ],
   "source": [
    "#Accuracy\n",
    "plot_values(accuracy_values, accuracies, ylabel=\"Accuracy\", title=\"Model Accuracy\")"
   ]
  },
  {
   "cell_type": "markdown",
   "id": "cab82527",
   "metadata": {},
   "source": [
    "<h3>Confusion Matrix</h3>"
   ]
  },
  {
   "cell_type": "code",
   "execution_count": 51,
   "id": "5cdafbc7",
   "metadata": {},
   "outputs": [],
   "source": [
    "#Confusion Matrix\n",
    "def plot_confusion_matrix(y_true, y_pred, classes, normalize=False, title=\"Confusion Matrix\", cmap=plt.cm.Blues):\n",
    "    cm = confusion_matrix(y_true, y_pred)\n",
    "    \n",
    "    if normalize:\n",
    "        cm = cm.astype(\"float\") / cm.sum(axis=1)[:, np.newaxis]\n",
    "        print(\"Normalized Confusion Matrix\")\n",
    "    else:\n",
    "        print(\"Confusion Matrix, without Normalization\")\n",
    "    \n",
    "    plt.figure(figsize=(8, 6))\n",
    "    plt.imshow(cm, interpolation=\"nearest\", cmap=cmap)\n",
    "    plt.title(title)\n",
    "    plt.colorbar()\n",
    "    \n",
    "    tick_marks = np.arange(len(classes))\n",
    "    plt.xticks(tick_marks, classes, rotation=45)\n",
    "    plt.yticks(tick_marks, classes)\n",
    "    \n",
    "    fmt = \".2f\" if normalize else \"d\"\n",
    "    thresh = cm.max() / 2.\n",
    "    for i, j in itertools.product(range(cm.shape[0]), range(cm.shape[1])):\n",
    "        plt.text(j, i, format(cm[i, j], fmt), horizontalalignment=\"center\", color=\"white\" if cm[i, j] > thresh else \"black\")\n",
    "        \n",
    "    plt.tight_layout()\n",
    "    plt.xlabel(\"Predicted Label\")\n",
    "    plt.ylabel(\"True Label\")\n",
    "    plt.show()"
   ]
  },
  {
   "cell_type": "code",
   "execution_count": 52,
   "id": "8bec1a63",
   "metadata": {},
   "outputs": [
    {
     "name": "stdout",
     "output_type": "stream",
     "text": [
      "313/313 [==============================] - 2s 6ms/step\n",
      "Confusion Matrix, without Normalization\n"
     ]
    },
    {
     "data": {
      "image/png": "[encoded data removed]",
      "text/plain": [
       "<Figure size 800x600 with 2 Axes>"
      ]
     },
     "metadata": {},
     "output_type": "display_data"
    }
   ],
   "source": [
    "Y_pred = model.predict(X_valid)\n",
    "Y_pred_classes = np.argmax(Y_pred, axis=1)\n",
    "Y_true = np.argmax(y_valid, axis=1)\n",
    "\n",
    "plot_confusion_matrix(Y_true, Y_pred_classes, classes=range(n_classes), normalize=False)"
   ]
  },
  {
   "cell_type": "markdown",
   "id": "b473da74",
   "metadata": {},
   "source": [
    "<h3>Conclusions</h3>"
   ]
  },
  {
   "cell_type": "markdown",
   "id": "ad27dec0",
   "metadata": {},
   "source": [
    "<p>While the Tuned Model had twice the number of epochs in this run of the program, it took a shorter time per epoch on average. This is due to the better tuning on the number of filters in the Input Layer. In addition, both the Loss and Accuracy of the tuned model were better (lower and higher, respectively), with the Tuned Model's Accuracy reaching 90%.</p>\n",
    "\n",
    "<p>In the Confusion Matrix, we can see that the model had some issues distinguishing cats and dogs (labels 3 and 5), but generally was clear on each prediction.</p>\n",
    "\n",
    "<p>If I were to continue to work on this specific project, I would try adding more convolutional layers, to try to increase the accuracy, with a goal being 97% Accuracy. I would also like to possibly attempt to use the cifar100 dataset, but I might need a dedicated computer with a discrete gpu for that.</p>\n",
    "\n",
    "<p>While preparing this midterm, I tried both Adam and SGD optimizers. Interestingly, the Adam optimizer provided better results on loss and accuracy. I found conflicting reports online, but the general concensus was that Adam is a worse performer for CNN tasks.</p>\n",
    "\n",
    "<p>I ran into an issue with the model predictions at the end, and could not easily find a way to fix it. Any guidance would be appreciated.</p>\n",
    "\n",
    "<p>I would like to thank my partner for the use of their computer for this assignment. It would have taken me much longer to actually run the code outside of testing if I had used my own.</p>"
   ]
  },
  {
   "cell_type": "code",
   "execution_count": null,
   "id": "99b231a6",
   "metadata": {},
   "outputs": [],
   "source": []
  }
 ],
 "metadata": {
  "kernelspec": {
   "display_name": "Python 3 (ipykernel)",
   "language": "python",
   "name": "python3"
  },
  "language_info": {
   "codemirror_mode": {
    "name": "ipython",
    "version": 3
   },
   "file_extension": ".py",
   "mimetype": "text/x-python",
   "name": "python",
   "nbconvert_exporter": "python",
   "pygments_lexer": "ipython3",
   "version": "3.9.18"
  }
 },
 "nbformat": 4,
 "nbformat_minor": 5
}
